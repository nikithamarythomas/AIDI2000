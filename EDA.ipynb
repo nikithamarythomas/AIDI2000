{
 "cells": [
  {
   "cell_type": "code",
   "execution_count": 1,
   "metadata": {},
   "outputs": [],
   "source": [
    "# Importing necessary libraries\n",
    "\n",
    "import pandas as pd\n",
    "import matplotlib.pyplot as plt\n",
    "import seaborn as sns\n",
    "#from pandas_profiling import ProfileReport"
   ]
  },
  {
   "cell_type": "code",
   "execution_count": 39,
   "metadata": {},
   "outputs": [
    {
     "name": "stderr",
     "output_type": "stream",
     "text": [
      "C:\\Users\\nikit\\AppData\\Local\\Temp\\ipykernel_23052\\1559394632.py:4: DtypeWarning: Columns (2) have mixed types. Specify dtype option on import or set low_memory=False.\n",
      "  game_goals= pd.read_csv('game_goals.csv')   #2\n"
     ]
    }
   ],
   "source": [
    "\n",
    "# Load each related table into separate DataFrames\n",
    "\n",
    "game_goalie_stats = pd.read_csv('game_goalie_stats.csv')    #1\n",
    "game_goals= pd.read_csv('game_goals.csv')   #2\n",
    "game_officials = pd.read_csv('game_officials.csv')  #3\n",
    "game_penalties = pd.read_csv('game_penalties.csv')  #4\n",
    "game_plays_players = pd.read_csv('game_plays_players.csv')  #1\n",
    "game_plays = pd.read_csv('game_plays.csv')  #2\n",
    "game_scratches = pd.read_csv('game_scratches.csv')  #3\n",
    "game_shifts = pd.read_csv('game_shifts.csv')    #4\n",
    "game_skater_stats = pd.read_csv('game_skater_stats.csv')    #1\n",
    "game_teams_stats = pd.read_csv('game_teams_stats.csv')  #2\n",
    "game = pd.read_csv('game.csv')  #3\n",
    "player_info = pd.read_csv('player_info.csv')    #4\n",
    "team_info = pd.read_csv('team_info.csv')    #1\n",
    "\n",
    "\n"
   ]
  },
  {
   "cell_type": "code",
   "execution_count": 3,
   "metadata": {},
   "outputs": [
    {
     "data": {
      "text/html": [
       "<div>\n",
       "<style scoped>\n",
       "    .dataframe tbody tr th:only-of-type {\n",
       "        vertical-align: middle;\n",
       "    }\n",
       "\n",
       "    .dataframe tbody tr th {\n",
       "        vertical-align: top;\n",
       "    }\n",
       "\n",
       "    .dataframe thead th {\n",
       "        text-align: right;\n",
       "    }\n",
       "</style>\n",
       "<table border=\"1\" class=\"dataframe\">\n",
       "  <thead>\n",
       "    <tr style=\"text-align: right;\">\n",
       "      <th></th>\n",
       "      <th>game_id</th>\n",
       "      <th>season</th>\n",
       "      <th>type</th>\n",
       "      <th>date_time_GMT</th>\n",
       "      <th>away_team_id</th>\n",
       "      <th>home_team_id</th>\n",
       "      <th>away_goals</th>\n",
       "      <th>home_goals</th>\n",
       "      <th>outcome</th>\n",
       "      <th>home_rink_side_start</th>\n",
       "      <th>venue</th>\n",
       "      <th>venue_link</th>\n",
       "      <th>venue_time_zone_id</th>\n",
       "      <th>venue_time_zone_offset</th>\n",
       "      <th>venue_time_zone_tz</th>\n",
       "    </tr>\n",
       "  </thead>\n",
       "  <tbody>\n",
       "    <tr>\n",
       "      <th>0</th>\n",
       "      <td>2016020045</td>\n",
       "      <td>20162017</td>\n",
       "      <td>R</td>\n",
       "      <td>2016-10-19T00:30:00Z</td>\n",
       "      <td>4</td>\n",
       "      <td>16</td>\n",
       "      <td>4</td>\n",
       "      <td>7</td>\n",
       "      <td>home win REG</td>\n",
       "      <td>right</td>\n",
       "      <td>United Center</td>\n",
       "      <td>/api/v1/venues/null</td>\n",
       "      <td>America/Chicago</td>\n",
       "      <td>-5</td>\n",
       "      <td>CDT</td>\n",
       "    </tr>\n",
       "    <tr>\n",
       "      <th>1</th>\n",
       "      <td>2017020812</td>\n",
       "      <td>20172018</td>\n",
       "      <td>R</td>\n",
       "      <td>2018-02-07T00:00:00Z</td>\n",
       "      <td>24</td>\n",
       "      <td>7</td>\n",
       "      <td>4</td>\n",
       "      <td>3</td>\n",
       "      <td>away win OT</td>\n",
       "      <td>left</td>\n",
       "      <td>KeyBank Center</td>\n",
       "      <td>/api/v1/venues/null</td>\n",
       "      <td>America/New_York</td>\n",
       "      <td>-4</td>\n",
       "      <td>EDT</td>\n",
       "    </tr>\n",
       "    <tr>\n",
       "      <th>2</th>\n",
       "      <td>2015020314</td>\n",
       "      <td>20152016</td>\n",
       "      <td>R</td>\n",
       "      <td>2015-11-24T01:00:00Z</td>\n",
       "      <td>21</td>\n",
       "      <td>52</td>\n",
       "      <td>4</td>\n",
       "      <td>1</td>\n",
       "      <td>away win REG</td>\n",
       "      <td>right</td>\n",
       "      <td>MTS Centre</td>\n",
       "      <td>/api/v1/venues/null</td>\n",
       "      <td>America/Winnipeg</td>\n",
       "      <td>-5</td>\n",
       "      <td>CDT</td>\n",
       "    </tr>\n",
       "    <tr>\n",
       "      <th>3</th>\n",
       "      <td>2015020849</td>\n",
       "      <td>20152016</td>\n",
       "      <td>R</td>\n",
       "      <td>2016-02-17T00:00:00Z</td>\n",
       "      <td>52</td>\n",
       "      <td>12</td>\n",
       "      <td>1</td>\n",
       "      <td>2</td>\n",
       "      <td>home win REG</td>\n",
       "      <td>right</td>\n",
       "      <td>PNC Arena</td>\n",
       "      <td>/api/v1/venues/null</td>\n",
       "      <td>America/New_York</td>\n",
       "      <td>-4</td>\n",
       "      <td>EDT</td>\n",
       "    </tr>\n",
       "    <tr>\n",
       "      <th>4</th>\n",
       "      <td>2017020586</td>\n",
       "      <td>20172018</td>\n",
       "      <td>R</td>\n",
       "      <td>2017-12-30T03:00:00Z</td>\n",
       "      <td>20</td>\n",
       "      <td>24</td>\n",
       "      <td>1</td>\n",
       "      <td>2</td>\n",
       "      <td>home win REG</td>\n",
       "      <td>left</td>\n",
       "      <td>Honda Center</td>\n",
       "      <td>/api/v1/venues/null</td>\n",
       "      <td>America/Los_Angeles</td>\n",
       "      <td>-7</td>\n",
       "      <td>PDT</td>\n",
       "    </tr>\n",
       "  </tbody>\n",
       "</table>\n",
       "</div>"
      ],
      "text/plain": [
       "      game_id    season type         date_time_GMT  away_team_id  \\\n",
       "0  2016020045  20162017    R  2016-10-19T00:30:00Z             4   \n",
       "1  2017020812  20172018    R  2018-02-07T00:00:00Z            24   \n",
       "2  2015020314  20152016    R  2015-11-24T01:00:00Z            21   \n",
       "3  2015020849  20152016    R  2016-02-17T00:00:00Z            52   \n",
       "4  2017020586  20172018    R  2017-12-30T03:00:00Z            20   \n",
       "\n",
       "   home_team_id  away_goals  home_goals       outcome home_rink_side_start  \\\n",
       "0            16           4           7  home win REG                right   \n",
       "1             7           4           3   away win OT                 left   \n",
       "2            52           4           1  away win REG                right   \n",
       "3            12           1           2  home win REG                right   \n",
       "4            24           1           2  home win REG                 left   \n",
       "\n",
       "            venue           venue_link   venue_time_zone_id  \\\n",
       "0   United Center  /api/v1/venues/null      America/Chicago   \n",
       "1  KeyBank Center  /api/v1/venues/null     America/New_York   \n",
       "2      MTS Centre  /api/v1/venues/null     America/Winnipeg   \n",
       "3       PNC Arena  /api/v1/venues/null     America/New_York   \n",
       "4    Honda Center  /api/v1/venues/null  America/Los_Angeles   \n",
       "\n",
       "   venue_time_zone_offset venue_time_zone_tz  \n",
       "0                      -5                CDT  \n",
       "1                      -4                EDT  \n",
       "2                      -5                CDT  \n",
       "3                      -4                EDT  \n",
       "4                      -7                PDT  "
      ]
     },
     "execution_count": 3,
     "metadata": {},
     "output_type": "execute_result"
    }
   ],
   "source": [
    "game.head()"
   ]
  },
  {
   "cell_type": "code",
   "execution_count": 4,
   "metadata": {},
   "outputs": [
    {
     "data": {
      "text/html": [
       "<div>\n",
       "<style scoped>\n",
       "    .dataframe tbody tr th:only-of-type {\n",
       "        vertical-align: middle;\n",
       "    }\n",
       "\n",
       "    .dataframe tbody tr th {\n",
       "        vertical-align: top;\n",
       "    }\n",
       "\n",
       "    .dataframe thead th {\n",
       "        text-align: right;\n",
       "    }\n",
       "</style>\n",
       "<table border=\"1\" class=\"dataframe\">\n",
       "  <thead>\n",
       "    <tr style=\"text-align: right;\">\n",
       "      <th></th>\n",
       "      <th>player_id</th>\n",
       "      <th>firstName</th>\n",
       "      <th>lastName</th>\n",
       "      <th>nationality</th>\n",
       "      <th>birthCity</th>\n",
       "      <th>primaryPosition</th>\n",
       "      <th>birthDate</th>\n",
       "      <th>birthStateProvince</th>\n",
       "      <th>height</th>\n",
       "      <th>height_cm</th>\n",
       "      <th>weight</th>\n",
       "      <th>shootsCatches</th>\n",
       "    </tr>\n",
       "  </thead>\n",
       "  <tbody>\n",
       "    <tr>\n",
       "      <th>0</th>\n",
       "      <td>8466148</td>\n",
       "      <td>Marian</td>\n",
       "      <td>Hossa</td>\n",
       "      <td>SVK</td>\n",
       "      <td>Stará Lubovna</td>\n",
       "      <td>RW</td>\n",
       "      <td>1979-01-12 00:00:00</td>\n",
       "      <td>NaN</td>\n",
       "      <td>6' 1\"</td>\n",
       "      <td>185.42</td>\n",
       "      <td>207.0</td>\n",
       "      <td>L</td>\n",
       "    </tr>\n",
       "    <tr>\n",
       "      <th>1</th>\n",
       "      <td>8465058</td>\n",
       "      <td>Michal</td>\n",
       "      <td>Rozsival</td>\n",
       "      <td>CZE</td>\n",
       "      <td>Vlasim</td>\n",
       "      <td>D</td>\n",
       "      <td>1978-09-03 01:00:00</td>\n",
       "      <td>NaN</td>\n",
       "      <td>6' 1\"</td>\n",
       "      <td>185.42</td>\n",
       "      <td>210.0</td>\n",
       "      <td>R</td>\n",
       "    </tr>\n",
       "    <tr>\n",
       "      <th>2</th>\n",
       "      <td>8476906</td>\n",
       "      <td>Shayne</td>\n",
       "      <td>Gostisbehere</td>\n",
       "      <td>USA</td>\n",
       "      <td>Pembroke Pines</td>\n",
       "      <td>D</td>\n",
       "      <td>1993-04-20 01:00:00</td>\n",
       "      <td>FL</td>\n",
       "      <td>5' 11\"</td>\n",
       "      <td>180.34</td>\n",
       "      <td>180.0</td>\n",
       "      <td>L</td>\n",
       "    </tr>\n",
       "    <tr>\n",
       "      <th>3</th>\n",
       "      <td>8466285</td>\n",
       "      <td>Brian</td>\n",
       "      <td>Campbell</td>\n",
       "      <td>CAN</td>\n",
       "      <td>Strathroy</td>\n",
       "      <td>D</td>\n",
       "      <td>1979-05-23 01:00:00</td>\n",
       "      <td>ON</td>\n",
       "      <td>5' 10\"</td>\n",
       "      <td>177.80</td>\n",
       "      <td>192.0</td>\n",
       "      <td>L</td>\n",
       "    </tr>\n",
       "    <tr>\n",
       "      <th>4</th>\n",
       "      <td>8470607</td>\n",
       "      <td>Brent</td>\n",
       "      <td>Seabrook</td>\n",
       "      <td>CAN</td>\n",
       "      <td>Richmond</td>\n",
       "      <td>D</td>\n",
       "      <td>1985-04-20 01:00:00</td>\n",
       "      <td>BC</td>\n",
       "      <td>6' 3\"</td>\n",
       "      <td>190.50</td>\n",
       "      <td>220.0</td>\n",
       "      <td>R</td>\n",
       "    </tr>\n",
       "  </tbody>\n",
       "</table>\n",
       "</div>"
      ],
      "text/plain": [
       "   player_id firstName      lastName nationality       birthCity  \\\n",
       "0    8466148    Marian         Hossa         SVK   Stará Lubovna   \n",
       "1    8465058    Michal      Rozsival         CZE          Vlasim   \n",
       "2    8476906    Shayne  Gostisbehere         USA  Pembroke Pines   \n",
       "3    8466285     Brian      Campbell         CAN       Strathroy   \n",
       "4    8470607     Brent      Seabrook         CAN        Richmond   \n",
       "\n",
       "  primaryPosition            birthDate birthStateProvince  height  height_cm  \\\n",
       "0              RW  1979-01-12 00:00:00                NaN   6' 1\"     185.42   \n",
       "1               D  1978-09-03 01:00:00                NaN   6' 1\"     185.42   \n",
       "2               D  1993-04-20 01:00:00                 FL  5' 11\"     180.34   \n",
       "3               D  1979-05-23 01:00:00                 ON  5' 10\"     177.80   \n",
       "4               D  1985-04-20 01:00:00                 BC   6' 3\"     190.50   \n",
       "\n",
       "   weight shootsCatches  \n",
       "0   207.0             L  \n",
       "1   210.0             R  \n",
       "2   180.0             L  \n",
       "3   192.0             L  \n",
       "4   220.0             R  "
      ]
     },
     "execution_count": 4,
     "metadata": {},
     "output_type": "execute_result"
    }
   ],
   "source": [
    "player_info.head()"
   ]
  },
  {
   "cell_type": "code",
   "execution_count": 5,
   "metadata": {},
   "outputs": [
    {
     "data": {
      "text/html": [
       "<div>\n",
       "<style scoped>\n",
       "    .dataframe tbody tr th:only-of-type {\n",
       "        vertical-align: middle;\n",
       "    }\n",
       "\n",
       "    .dataframe tbody tr th {\n",
       "        vertical-align: top;\n",
       "    }\n",
       "\n",
       "    .dataframe thead th {\n",
       "        text-align: right;\n",
       "    }\n",
       "</style>\n",
       "<table border=\"1\" class=\"dataframe\">\n",
       "  <thead>\n",
       "    <tr style=\"text-align: right;\">\n",
       "      <th></th>\n",
       "      <th>team_id</th>\n",
       "      <th>franchiseId</th>\n",
       "      <th>shortName</th>\n",
       "      <th>teamName</th>\n",
       "      <th>abbreviation</th>\n",
       "      <th>link</th>\n",
       "    </tr>\n",
       "  </thead>\n",
       "  <tbody>\n",
       "    <tr>\n",
       "      <th>0</th>\n",
       "      <td>1</td>\n",
       "      <td>23</td>\n",
       "      <td>New Jersey</td>\n",
       "      <td>Devils</td>\n",
       "      <td>NJD</td>\n",
       "      <td>/api/v1/teams/1</td>\n",
       "    </tr>\n",
       "    <tr>\n",
       "      <th>1</th>\n",
       "      <td>4</td>\n",
       "      <td>16</td>\n",
       "      <td>Philadelphia</td>\n",
       "      <td>Flyers</td>\n",
       "      <td>PHI</td>\n",
       "      <td>/api/v1/teams/4</td>\n",
       "    </tr>\n",
       "    <tr>\n",
       "      <th>2</th>\n",
       "      <td>26</td>\n",
       "      <td>14</td>\n",
       "      <td>Los Angeles</td>\n",
       "      <td>Kings</td>\n",
       "      <td>LAK</td>\n",
       "      <td>/api/v1/teams/26</td>\n",
       "    </tr>\n",
       "    <tr>\n",
       "      <th>3</th>\n",
       "      <td>14</td>\n",
       "      <td>31</td>\n",
       "      <td>Tampa Bay</td>\n",
       "      <td>Lightning</td>\n",
       "      <td>TBL</td>\n",
       "      <td>/api/v1/teams/14</td>\n",
       "    </tr>\n",
       "    <tr>\n",
       "      <th>4</th>\n",
       "      <td>6</td>\n",
       "      <td>6</td>\n",
       "      <td>Boston</td>\n",
       "      <td>Bruins</td>\n",
       "      <td>BOS</td>\n",
       "      <td>/api/v1/teams/6</td>\n",
       "    </tr>\n",
       "  </tbody>\n",
       "</table>\n",
       "</div>"
      ],
      "text/plain": [
       "   team_id  franchiseId     shortName   teamName abbreviation  \\\n",
       "0        1           23    New Jersey     Devils          NJD   \n",
       "1        4           16  Philadelphia     Flyers          PHI   \n",
       "2       26           14   Los Angeles      Kings          LAK   \n",
       "3       14           31     Tampa Bay  Lightning          TBL   \n",
       "4        6            6        Boston     Bruins          BOS   \n",
       "\n",
       "               link  \n",
       "0   /api/v1/teams/1  \n",
       "1   /api/v1/teams/4  \n",
       "2  /api/v1/teams/26  \n",
       "3  /api/v1/teams/14  \n",
       "4   /api/v1/teams/6  "
      ]
     },
     "execution_count": 5,
     "metadata": {},
     "output_type": "execute_result"
    }
   ],
   "source": [
    "team_info.head()"
   ]
  },
  {
   "cell_type": "code",
   "execution_count": 6,
   "metadata": {},
   "outputs": [
    {
     "data": {
      "text/html": [
       "<div>\n",
       "<style scoped>\n",
       "    .dataframe tbody tr th:only-of-type {\n",
       "        vertical-align: middle;\n",
       "    }\n",
       "\n",
       "    .dataframe tbody tr th {\n",
       "        vertical-align: top;\n",
       "    }\n",
       "\n",
       "    .dataframe thead th {\n",
       "        text-align: right;\n",
       "    }\n",
       "</style>\n",
       "<table border=\"1\" class=\"dataframe\">\n",
       "  <thead>\n",
       "    <tr style=\"text-align: right;\">\n",
       "      <th></th>\n",
       "      <th>game_id</th>\n",
       "      <th>player_id</th>\n",
       "      <th>team_id</th>\n",
       "      <th>timeOnIce</th>\n",
       "      <th>assists</th>\n",
       "      <th>goals</th>\n",
       "      <th>pim</th>\n",
       "      <th>shots</th>\n",
       "      <th>saves</th>\n",
       "      <th>powerPlaySaves</th>\n",
       "      <th>shortHandedSaves</th>\n",
       "      <th>evenSaves</th>\n",
       "      <th>shortHandedShotsAgainst</th>\n",
       "      <th>evenShotsAgainst</th>\n",
       "      <th>powerPlayShotsAgainst</th>\n",
       "      <th>savePercentage</th>\n",
       "      <th>powerPlaySavePercentage</th>\n",
       "      <th>evenStrengthSavePercentage</th>\n",
       "    </tr>\n",
       "  </thead>\n",
       "  <tbody>\n",
       "    <tr>\n",
       "      <th>count</th>\n",
       "      <td>5.665600e+04</td>\n",
       "      <td>5.665600e+04</td>\n",
       "      <td>56656.000000</td>\n",
       "      <td>56656.000000</td>\n",
       "      <td>56656.000000</td>\n",
       "      <td>56656.000000</td>\n",
       "      <td>56656.000000</td>\n",
       "      <td>56656.000000</td>\n",
       "      <td>56656.000000</td>\n",
       "      <td>56656.000000</td>\n",
       "      <td>56656.000000</td>\n",
       "      <td>56656.000000</td>\n",
       "      <td>56656.000000</td>\n",
       "      <td>56656.000000</td>\n",
       "      <td>56656.000000</td>\n",
       "      <td>56517.000000</td>\n",
       "      <td>51913.000000</td>\n",
       "      <td>56459.000000</td>\n",
       "    </tr>\n",
       "    <tr>\n",
       "      <th>mean</th>\n",
       "      <td>2.010748e+09</td>\n",
       "      <td>8.468184e+06</td>\n",
       "      <td>16.902146</td>\n",
       "      <td>3369.154564</td>\n",
       "      <td>0.021075</td>\n",
       "      <td>0.000159</td>\n",
       "      <td>0.085851</td>\n",
       "      <td>27.684235</td>\n",
       "      <td>25.203562</td>\n",
       "      <td>4.078032</td>\n",
       "      <td>0.776529</td>\n",
       "      <td>20.342965</td>\n",
       "      <td>0.850925</td>\n",
       "      <td>22.133313</td>\n",
       "      <td>4.693589</td>\n",
       "      <td>90.112653</td>\n",
       "      <td>84.258532</td>\n",
       "      <td>91.039223</td>\n",
       "    </tr>\n",
       "    <tr>\n",
       "      <th>std</th>\n",
       "      <td>6.068775e+06</td>\n",
       "      <td>7.417587e+03</td>\n",
       "      <td>11.235659</td>\n",
       "      <td>734.192491</td>\n",
       "      <td>0.145223</td>\n",
       "      <td>0.012603</td>\n",
       "      <td>0.610103</td>\n",
       "      <td>8.825602</td>\n",
       "      <td>8.650819</td>\n",
       "      <td>3.201827</td>\n",
       "      <td>1.046156</td>\n",
       "      <td>7.577797</td>\n",
       "      <td>1.105461</td>\n",
       "      <td>7.757074</td>\n",
       "      <td>3.435020</td>\n",
       "      <td>7.798010</td>\n",
       "      <td>22.668988</td>\n",
       "      <td>8.253391</td>\n",
       "    </tr>\n",
       "    <tr>\n",
       "      <th>min</th>\n",
       "      <td>2.000020e+09</td>\n",
       "      <td>8.445275e+06</td>\n",
       "      <td>1.000000</td>\n",
       "      <td>0.000000</td>\n",
       "      <td>0.000000</td>\n",
       "      <td>0.000000</td>\n",
       "      <td>0.000000</td>\n",
       "      <td>0.000000</td>\n",
       "      <td>0.000000</td>\n",
       "      <td>0.000000</td>\n",
       "      <td>-1.000000</td>\n",
       "      <td>0.000000</td>\n",
       "      <td>0.000000</td>\n",
       "      <td>0.000000</td>\n",
       "      <td>0.000000</td>\n",
       "      <td>0.000000</td>\n",
       "      <td>0.000000</td>\n",
       "      <td>0.000000</td>\n",
       "    </tr>\n",
       "    <tr>\n",
       "      <th>25%</th>\n",
       "      <td>2.006020e+09</td>\n",
       "      <td>8.462055e+06</td>\n",
       "      <td>8.000000</td>\n",
       "      <td>3525.000000</td>\n",
       "      <td>0.000000</td>\n",
       "      <td>0.000000</td>\n",
       "      <td>0.000000</td>\n",
       "      <td>23.000000</td>\n",
       "      <td>20.000000</td>\n",
       "      <td>2.000000</td>\n",
       "      <td>0.000000</td>\n",
       "      <td>16.000000</td>\n",
       "      <td>0.000000</td>\n",
       "      <td>17.000000</td>\n",
       "      <td>2.000000</td>\n",
       "      <td>87.096774</td>\n",
       "      <td>75.000000</td>\n",
       "      <td>87.500000</td>\n",
       "    </tr>\n",
       "    <tr>\n",
       "      <th>50%</th>\n",
       "      <td>2.011021e+09</td>\n",
       "      <td>8.470320e+06</td>\n",
       "      <td>16.000000</td>\n",
       "      <td>3598.000000</td>\n",
       "      <td>0.000000</td>\n",
       "      <td>0.000000</td>\n",
       "      <td>0.000000</td>\n",
       "      <td>28.000000</td>\n",
       "      <td>26.000000</td>\n",
       "      <td>4.000000</td>\n",
       "      <td>0.000000</td>\n",
       "      <td>21.000000</td>\n",
       "      <td>1.000000</td>\n",
       "      <td>22.000000</td>\n",
       "      <td>4.000000</td>\n",
       "      <td>91.428571</td>\n",
       "      <td>92.857143</td>\n",
       "      <td>92.307692</td>\n",
       "    </tr>\n",
       "    <tr>\n",
       "      <th>75%</th>\n",
       "      <td>2.016021e+09</td>\n",
       "      <td>8.473607e+06</td>\n",
       "      <td>24.000000</td>\n",
       "      <td>3600.000000</td>\n",
       "      <td>0.000000</td>\n",
       "      <td>0.000000</td>\n",
       "      <td>0.000000</td>\n",
       "      <td>33.000000</td>\n",
       "      <td>31.000000</td>\n",
       "      <td>6.000000</td>\n",
       "      <td>1.000000</td>\n",
       "      <td>25.000000</td>\n",
       "      <td>1.000000</td>\n",
       "      <td>27.000000</td>\n",
       "      <td>7.000000</td>\n",
       "      <td>95.000000</td>\n",
       "      <td>100.000000</td>\n",
       "      <td>96.153846</td>\n",
       "    </tr>\n",
       "    <tr>\n",
       "      <th>max</th>\n",
       "      <td>2.019041e+09</td>\n",
       "      <td>8.480925e+06</td>\n",
       "      <td>90.000000</td>\n",
       "      <td>9027.000000</td>\n",
       "      <td>2.000000</td>\n",
       "      <td>1.000000</td>\n",
       "      <td>29.000000</td>\n",
       "      <td>88.000000</td>\n",
       "      <td>85.000000</td>\n",
       "      <td>25.000000</td>\n",
       "      <td>15.000000</td>\n",
       "      <td>76.000000</td>\n",
       "      <td>15.000000</td>\n",
       "      <td>79.000000</td>\n",
       "      <td>28.000000</td>\n",
       "      <td>100.000000</td>\n",
       "      <td>100.000000</td>\n",
       "      <td>100.000000</td>\n",
       "    </tr>\n",
       "  </tbody>\n",
       "</table>\n",
       "</div>"
      ],
      "text/plain": [
       "            game_id     player_id       team_id     timeOnIce       assists  \\\n",
       "count  5.665600e+04  5.665600e+04  56656.000000  56656.000000  56656.000000   \n",
       "mean   2.010748e+09  8.468184e+06     16.902146   3369.154564      0.021075   \n",
       "std    6.068775e+06  7.417587e+03     11.235659    734.192491      0.145223   \n",
       "min    2.000020e+09  8.445275e+06      1.000000      0.000000      0.000000   \n",
       "25%    2.006020e+09  8.462055e+06      8.000000   3525.000000      0.000000   \n",
       "50%    2.011021e+09  8.470320e+06     16.000000   3598.000000      0.000000   \n",
       "75%    2.016021e+09  8.473607e+06     24.000000   3600.000000      0.000000   \n",
       "max    2.019041e+09  8.480925e+06     90.000000   9027.000000      2.000000   \n",
       "\n",
       "              goals           pim         shots         saves  powerPlaySaves  \\\n",
       "count  56656.000000  56656.000000  56656.000000  56656.000000    56656.000000   \n",
       "mean       0.000159      0.085851     27.684235     25.203562        4.078032   \n",
       "std        0.012603      0.610103      8.825602      8.650819        3.201827   \n",
       "min        0.000000      0.000000      0.000000      0.000000        0.000000   \n",
       "25%        0.000000      0.000000     23.000000     20.000000        2.000000   \n",
       "50%        0.000000      0.000000     28.000000     26.000000        4.000000   \n",
       "75%        0.000000      0.000000     33.000000     31.000000        6.000000   \n",
       "max        1.000000     29.000000     88.000000     85.000000       25.000000   \n",
       "\n",
       "       shortHandedSaves     evenSaves  shortHandedShotsAgainst  \\\n",
       "count      56656.000000  56656.000000             56656.000000   \n",
       "mean           0.776529     20.342965                 0.850925   \n",
       "std            1.046156      7.577797                 1.105461   \n",
       "min           -1.000000      0.000000                 0.000000   \n",
       "25%            0.000000     16.000000                 0.000000   \n",
       "50%            0.000000     21.000000                 1.000000   \n",
       "75%            1.000000     25.000000                 1.000000   \n",
       "max           15.000000     76.000000                15.000000   \n",
       "\n",
       "       evenShotsAgainst  powerPlayShotsAgainst  savePercentage  \\\n",
       "count      56656.000000           56656.000000    56517.000000   \n",
       "mean          22.133313               4.693589       90.112653   \n",
       "std            7.757074               3.435020        7.798010   \n",
       "min            0.000000               0.000000        0.000000   \n",
       "25%           17.000000               2.000000       87.096774   \n",
       "50%           22.000000               4.000000       91.428571   \n",
       "75%           27.000000               7.000000       95.000000   \n",
       "max           79.000000              28.000000      100.000000   \n",
       "\n",
       "       powerPlaySavePercentage  evenStrengthSavePercentage  \n",
       "count             51913.000000                56459.000000  \n",
       "mean                 84.258532                   91.039223  \n",
       "std                  22.668988                    8.253391  \n",
       "min                   0.000000                    0.000000  \n",
       "25%                  75.000000                   87.500000  \n",
       "50%                  92.857143                   92.307692  \n",
       "75%                 100.000000                   96.153846  \n",
       "max                 100.000000                  100.000000  "
      ]
     },
     "execution_count": 6,
     "metadata": {},
     "output_type": "execute_result"
    }
   ],
   "source": [
    "game_goalie_stats.describe()"
   ]
  },
  {
   "cell_type": "code",
   "execution_count": 7,
   "metadata": {},
   "outputs": [
    {
     "data": {
      "text/plain": [
       "Index(['game_id', 'player_id', 'team_id', 'timeOnIce', 'assists', 'goals',\n",
       "       'pim', 'shots', 'saves', 'powerPlaySaves', 'shortHandedSaves',\n",
       "       'evenSaves', 'shortHandedShotsAgainst', 'evenShotsAgainst',\n",
       "       'powerPlayShotsAgainst', 'decision', 'savePercentage',\n",
       "       'powerPlaySavePercentage', 'evenStrengthSavePercentage'],\n",
       "      dtype='object')"
      ]
     },
     "execution_count": 7,
     "metadata": {},
     "output_type": "execute_result"
    }
   ],
   "source": [
    "game_goalie_stats.columns\n"
   ]
  },
  {
   "cell_type": "code",
   "execution_count": 8,
   "metadata": {},
   "outputs": [
    {
     "data": {
      "text/plain": [
       "Index(['play_id', 'strength', 'gameWinningGoal', 'emptyNet'], dtype='object')"
      ]
     },
     "execution_count": 8,
     "metadata": {},
     "output_type": "execute_result"
    }
   ],
   "source": [
    "game_goals.columns"
   ]
  },
  {
   "cell_type": "code",
   "execution_count": 9,
   "metadata": {},
   "outputs": [
    {
     "data": {
      "text/plain": [
       "Index(['game_id', 'official_name', 'official_type'], dtype='object')"
      ]
     },
     "execution_count": 9,
     "metadata": {},
     "output_type": "execute_result"
    }
   ],
   "source": [
    "game_officials.columns"
   ]
  },
  {
   "cell_type": "code",
   "execution_count": 10,
   "metadata": {},
   "outputs": [
    {
     "data": {
      "text/plain": [
       "Index(['play_id', 'penaltySeverity', 'penaltyMinutes'], dtype='object')"
      ]
     },
     "execution_count": 10,
     "metadata": {},
     "output_type": "execute_result"
    }
   ],
   "source": [
    "game_penalties.columns"
   ]
  },
  {
   "cell_type": "code",
   "execution_count": 11,
   "metadata": {},
   "outputs": [
    {
     "data": {
      "text/plain": [
       "Index(['play_id', 'game_id', 'player_id', 'playerType'], dtype='object')"
      ]
     },
     "execution_count": 11,
     "metadata": {},
     "output_type": "execute_result"
    }
   ],
   "source": [
    "game_plays_players.columns"
   ]
  },
  {
   "cell_type": "code",
   "execution_count": 12,
   "metadata": {},
   "outputs": [
    {
     "data": {
      "text/plain": [
       "Index(['play_id', 'game_id', 'team_id_for', 'team_id_against', 'event',\n",
       "       'secondaryType', 'x', 'y', 'period', 'periodType', 'periodTime',\n",
       "       'periodTimeRemaining', 'dateTime', 'goals_away', 'goals_home',\n",
       "       'description', 'st_x', 'st_y'],\n",
       "      dtype='object')"
      ]
     },
     "execution_count": 12,
     "metadata": {},
     "output_type": "execute_result"
    }
   ],
   "source": [
    "game_plays.columns"
   ]
  },
  {
   "cell_type": "code",
   "execution_count": 13,
   "metadata": {},
   "outputs": [
    {
     "data": {
      "text/plain": [
       "Index(['game_id', 'team_id', 'player_id'], dtype='object')"
      ]
     },
     "execution_count": 13,
     "metadata": {},
     "output_type": "execute_result"
    }
   ],
   "source": [
    "game_scratches.columns"
   ]
  },
  {
   "cell_type": "code",
   "execution_count": 14,
   "metadata": {},
   "outputs": [
    {
     "data": {
      "text/plain": [
       "Index(['game_id', 'player_id', 'period', 'shift_start', 'shift_end'], dtype='object')"
      ]
     },
     "execution_count": 14,
     "metadata": {},
     "output_type": "execute_result"
    }
   ],
   "source": [
    "game_shifts.columns"
   ]
  },
  {
   "cell_type": "code",
   "execution_count": 15,
   "metadata": {},
   "outputs": [
    {
     "data": {
      "text/plain": [
       "Index(['game_id', 'player_id', 'team_id', 'timeOnIce', 'assists', 'goals',\n",
       "       'shots', 'hits', 'powerPlayGoals', 'powerPlayAssists', 'penaltyMinutes',\n",
       "       'faceOffWins', 'faceoffTaken', 'takeaways', 'giveaways',\n",
       "       'shortHandedGoals', 'shortHandedAssists', 'blocked', 'plusMinus',\n",
       "       'evenTimeOnIce', 'shortHandedTimeOnIce', 'powerPlayTimeOnIce'],\n",
       "      dtype='object')"
      ]
     },
     "execution_count": 15,
     "metadata": {},
     "output_type": "execute_result"
    }
   ],
   "source": [
    "game_skater_stats.columns"
   ]
  },
  {
   "cell_type": "code",
   "execution_count": 16,
   "metadata": {},
   "outputs": [
    {
     "data": {
      "text/plain": [
       "Index(['game_id', 'team_id', 'HoA', 'won', 'settled_in', 'head_coach', 'goals',\n",
       "       'shots', 'hits', 'pim', 'powerPlayOpportunities', 'powerPlayGoals',\n",
       "       'faceOffWinPercentage', 'giveaways', 'takeaways', 'blocked',\n",
       "       'startRinkSide'],\n",
       "      dtype='object')"
      ]
     },
     "execution_count": 16,
     "metadata": {},
     "output_type": "execute_result"
    }
   ],
   "source": [
    "game_teams_stats.columns"
   ]
  },
  {
   "cell_type": "code",
   "execution_count": 17,
   "metadata": {},
   "outputs": [
    {
     "data": {
      "text/plain": [
       "Index(['game_id', 'season', 'type', 'date_time_GMT', 'away_team_id',\n",
       "       'home_team_id', 'away_goals', 'home_goals', 'outcome',\n",
       "       'home_rink_side_start', 'venue', 'venue_link', 'venue_time_zone_id',\n",
       "       'venue_time_zone_offset', 'venue_time_zone_tz'],\n",
       "      dtype='object')"
      ]
     },
     "execution_count": 17,
     "metadata": {},
     "output_type": "execute_result"
    }
   ],
   "source": [
    "game.columns"
   ]
  },
  {
   "cell_type": "code",
   "execution_count": 18,
   "metadata": {},
   "outputs": [
    {
     "data": {
      "text/plain": [
       "Index(['player_id', 'firstName', 'lastName', 'nationality', 'birthCity',\n",
       "       'primaryPosition', 'birthDate', 'birthStateProvince', 'height',\n",
       "       'height_cm', 'weight', 'shootsCatches'],\n",
       "      dtype='object')"
      ]
     },
     "execution_count": 18,
     "metadata": {},
     "output_type": "execute_result"
    }
   ],
   "source": [
    "player_info.columns"
   ]
  },
  {
   "cell_type": "code",
   "execution_count": 19,
   "metadata": {},
   "outputs": [
    {
     "data": {
      "text/plain": [
       "Index(['team_id', 'franchiseId', 'shortName', 'teamName', 'abbreviation',\n",
       "       'link'],\n",
       "      dtype='object')"
      ]
     },
     "execution_count": 19,
     "metadata": {},
     "output_type": "execute_result"
    }
   ],
   "source": [
    "team_info.columns"
   ]
  },
  {
   "cell_type": "markdown",
   "metadata": {},
   "source": [
    "# df2 game_goals.csv"
   ]
  },
  {
   "cell_type": "code",
   "execution_count": 28,
   "metadata": {},
   "outputs": [
    {
     "name": "stdout",
     "output_type": "stream",
     "text": [
      "<class 'pandas.core.frame.DataFrame'>\n",
      "RangeIndex: 148992 entries, 0 to 148991\n",
      "Data columns (total 4 columns):\n",
      " #   Column           Non-Null Count   Dtype \n",
      "---  ------           --------------   ----- \n",
      " 0   play_id          148992 non-null  object\n",
      " 1   strength         148992 non-null  object\n",
      " 2   gameWinningGoal  147148 non-null  object\n",
      " 3   emptyNet         143949 non-null  object\n",
      "dtypes: object(4)\n",
      "memory usage: 4.5+ MB\n"
     ]
    }
   ],
   "source": [
    "game_goals.info()"
   ]
  },
  {
   "cell_type": "code",
   "execution_count": 20,
   "metadata": {},
   "outputs": [
    {
     "data": {
      "text/html": [
       "<div>\n",
       "<style scoped>\n",
       "    .dataframe tbody tr th:only-of-type {\n",
       "        vertical-align: middle;\n",
       "    }\n",
       "\n",
       "    .dataframe tbody tr th {\n",
       "        vertical-align: top;\n",
       "    }\n",
       "\n",
       "    .dataframe thead th {\n",
       "        text-align: right;\n",
       "    }\n",
       "</style>\n",
       "<table border=\"1\" class=\"dataframe\">\n",
       "  <thead>\n",
       "    <tr style=\"text-align: right;\">\n",
       "      <th></th>\n",
       "      <th>play_id</th>\n",
       "      <th>strength</th>\n",
       "      <th>gameWinningGoal</th>\n",
       "      <th>emptyNet</th>\n",
       "    </tr>\n",
       "  </thead>\n",
       "  <tbody>\n",
       "    <tr>\n",
       "      <th>0</th>\n",
       "      <td>2016020045_6</td>\n",
       "      <td>Even</td>\n",
       "      <td>False</td>\n",
       "      <td>False</td>\n",
       "    </tr>\n",
       "    <tr>\n",
       "      <th>1</th>\n",
       "      <td>2016020045_97</td>\n",
       "      <td>Even</td>\n",
       "      <td>False</td>\n",
       "      <td>False</td>\n",
       "    </tr>\n",
       "    <tr>\n",
       "      <th>2</th>\n",
       "      <td>2016020045_103</td>\n",
       "      <td>Power Play</td>\n",
       "      <td>False</td>\n",
       "      <td>False</td>\n",
       "    </tr>\n",
       "    <tr>\n",
       "      <th>3</th>\n",
       "      <td>2016020045_140</td>\n",
       "      <td>Power Play</td>\n",
       "      <td>False</td>\n",
       "      <td>False</td>\n",
       "    </tr>\n",
       "    <tr>\n",
       "      <th>4</th>\n",
       "      <td>2016020045_197</td>\n",
       "      <td>Power Play</td>\n",
       "      <td>False</td>\n",
       "      <td>False</td>\n",
       "    </tr>\n",
       "  </tbody>\n",
       "</table>\n",
       "</div>"
      ],
      "text/plain": [
       "          play_id    strength gameWinningGoal emptyNet\n",
       "0    2016020045_6        Even           False    False\n",
       "1   2016020045_97        Even           False    False\n",
       "2  2016020045_103  Power Play           False    False\n",
       "3  2016020045_140  Power Play           False    False\n",
       "4  2016020045_197  Power Play           False    False"
      ]
     },
     "execution_count": 20,
     "metadata": {},
     "output_type": "execute_result"
    }
   ],
   "source": [
    "game_goals.head()"
   ]
  },
  {
   "cell_type": "code",
   "execution_count": 21,
   "metadata": {},
   "outputs": [
    {
     "data": {
      "text/html": [
       "<div>\n",
       "<style scoped>\n",
       "    .dataframe tbody tr th:only-of-type {\n",
       "        vertical-align: middle;\n",
       "    }\n",
       "\n",
       "    .dataframe tbody tr th {\n",
       "        vertical-align: top;\n",
       "    }\n",
       "\n",
       "    .dataframe thead th {\n",
       "        text-align: right;\n",
       "    }\n",
       "</style>\n",
       "<table border=\"1\" class=\"dataframe\">\n",
       "  <thead>\n",
       "    <tr style=\"text-align: right;\">\n",
       "      <th></th>\n",
       "      <th>play_id</th>\n",
       "      <th>strength</th>\n",
       "      <th>gameWinningGoal</th>\n",
       "      <th>emptyNet</th>\n",
       "    </tr>\n",
       "  </thead>\n",
       "  <tbody>\n",
       "    <tr>\n",
       "      <th>count</th>\n",
       "      <td>148992</td>\n",
       "      <td>148992</td>\n",
       "      <td>147148</td>\n",
       "      <td>143949</td>\n",
       "    </tr>\n",
       "    <tr>\n",
       "      <th>unique</th>\n",
       "      <td>133345</td>\n",
       "      <td>3</td>\n",
       "      <td>2</td>\n",
       "      <td>2</td>\n",
       "    </tr>\n",
       "    <tr>\n",
       "      <th>top</th>\n",
       "      <td>2018030417_290</td>\n",
       "      <td>Even</td>\n",
       "      <td>False</td>\n",
       "      <td>False</td>\n",
       "    </tr>\n",
       "    <tr>\n",
       "      <th>freq</th>\n",
       "      <td>2</td>\n",
       "      <td>109882</td>\n",
       "      <td>123522</td>\n",
       "      <td>138318</td>\n",
       "    </tr>\n",
       "  </tbody>\n",
       "</table>\n",
       "</div>"
      ],
      "text/plain": [
       "               play_id strength gameWinningGoal emptyNet\n",
       "count           148992   148992          147148   143949\n",
       "unique          133345        3               2        2\n",
       "top     2018030417_290     Even           False    False\n",
       "freq                 2   109882          123522   138318"
      ]
     },
     "execution_count": 21,
     "metadata": {},
     "output_type": "execute_result"
    }
   ],
   "source": [
    "game_goals.describe()"
   ]
  },
  {
   "cell_type": "code",
   "execution_count": 22,
   "metadata": {},
   "outputs": [
    {
     "name": "stdout",
     "output_type": "stream",
     "text": [
      "Missing values in Game Goals Dataset:\n",
      "play_id               0\n",
      "strength              0\n",
      "gameWinningGoal    1844\n",
      "emptyNet           5043\n",
      "dtype: int64\n"
     ]
    }
   ],
   "source": [
    "# Check for missing values\n",
    "print(\"Missing values in Game Goals Dataset:\")\n",
    "print(game_goals.isnull().sum())"
   ]
  },
  {
   "cell_type": "code",
   "execution_count": 23,
   "metadata": {},
   "outputs": [
    {
     "data": {
      "image/png": "[encoded data removed]",
      "text/plain": [
       "<Figure size 1000x600 with 1 Axes>"
      ]
     },
     "metadata": {},
     "output_type": "display_data"
    }
   ],
   "source": [
    "# EDA for Play Dataset\n",
    "plt.figure(figsize=(10, 6))\n",
    "sns.countplot(x='strength', data=game_goals)\n",
    "plt.title('Distribution of Play Types (Strength)')\n",
    "plt.xlabel('Strength')\n",
    "plt.ylabel('Count')\n",
    "plt.show()"
   ]
  },
  {
   "cell_type": "code",
   "execution_count": 24,
   "metadata": {},
   "outputs": [
    {
     "data": {
      "image/png": "[encoded data removed]",
      "text/plain": [
       "<Figure size 1000x600 with 1 Axes>"
      ]
     },
     "metadata": {},
     "output_type": "display_data"
    }
   ],
   "source": [
    "plt.figure(figsize=(10, 6))\n",
    "sns.countplot(x='gameWinningGoal', data=game_goals)\n",
    "plt.title('Occurrence of Game-Winning Goals')\n",
    "plt.xlabel('Game Winning Goal')\n",
    "plt.ylabel('Count')\n",
    "plt.show()"
   ]
  },
  {
   "cell_type": "code",
   "execution_count": 25,
   "metadata": {},
   "outputs": [
    {
     "data": {
      "image/png": "[encoded data removed]",
      "text/plain": [
       "<Figure size 1000x600 with 1 Axes>"
      ]
     },
     "metadata": {},
     "output_type": "display_data"
    }
   ],
   "source": [
    "plt.figure(figsize=(10, 6))\n",
    "sns.countplot(x='emptyNet', data=game_goals)\n",
    "plt.title('Occurrence of Empty Net Goals')\n",
    "plt.xlabel('Empty Net Goal')\n",
    "plt.ylabel('Count')\n",
    "plt.show()"
   ]
  },
  {
   "cell_type": "markdown",
   "metadata": {},
   "source": [
    "## game_plays"
   ]
  },
  {
   "cell_type": "code",
   "execution_count": 40,
   "metadata": {},
   "outputs": [
    {
     "name": "stdout",
     "output_type": "stream",
     "text": [
      "<class 'pandas.core.frame.DataFrame'>\n",
      "RangeIndex: 5050529 entries, 0 to 5050528\n",
      "Data columns (total 18 columns):\n",
      " #   Column               Dtype  \n",
      "---  ------               -----  \n",
      " 0   play_id              object \n",
      " 1   game_id              int64  \n",
      " 2   team_id_for          float64\n",
      " 3   team_id_against      float64\n",
      " 4   event                object \n",
      " 5   secondaryType        object \n",
      " 6   x                    float64\n",
      " 7   y                    float64\n",
      " 8   period               int64  \n",
      " 9   periodType           object \n",
      " 10  periodTime           int64  \n",
      " 11  periodTimeRemaining  float64\n",
      " 12  dateTime             object \n",
      " 13  goals_away           int64  \n",
      " 14  goals_home           int64  \n",
      " 15  description          object \n",
      " 16  st_x                 float64\n",
      " 17  st_y                 float64\n",
      "dtypes: float64(7), int64(5), object(6)\n",
      "memory usage: 693.6+ MB\n"
     ]
    }
   ],
   "source": [
    "game_plays.info()"
   ]
  },
  {
   "cell_type": "code",
   "execution_count": 43,
   "metadata": {},
   "outputs": [
    {
     "data": {
      "text/html": [
       "<div>\n",
       "<style scoped>\n",
       "    .dataframe tbody tr th:only-of-type {\n",
       "        vertical-align: middle;\n",
       "    }\n",
       "\n",
       "    .dataframe tbody tr th {\n",
       "        vertical-align: top;\n",
       "    }\n",
       "\n",
       "    .dataframe thead th {\n",
       "        text-align: right;\n",
       "    }\n",
       "</style>\n",
       "<table border=\"1\" class=\"dataframe\">\n",
       "  <thead>\n",
       "    <tr style=\"text-align: right;\">\n",
       "      <th></th>\n",
       "      <th>play_id</th>\n",
       "      <th>game_id</th>\n",
       "      <th>team_id_for</th>\n",
       "      <th>team_id_against</th>\n",
       "      <th>event</th>\n",
       "      <th>secondaryType</th>\n",
       "      <th>x</th>\n",
       "      <th>y</th>\n",
       "      <th>period</th>\n",
       "      <th>periodType</th>\n",
       "      <th>periodTime</th>\n",
       "      <th>periodTimeRemaining</th>\n",
       "      <th>dateTime</th>\n",
       "      <th>goals_away</th>\n",
       "      <th>goals_home</th>\n",
       "      <th>description</th>\n",
       "      <th>st_x</th>\n",
       "      <th>st_y</th>\n",
       "    </tr>\n",
       "  </thead>\n",
       "  <tbody>\n",
       "    <tr>\n",
       "      <th>0</th>\n",
       "      <td>2016020045_1</td>\n",
       "      <td>2016020045</td>\n",
       "      <td>NaN</td>\n",
       "      <td>NaN</td>\n",
       "      <td>Game Scheduled</td>\n",
       "      <td>NaN</td>\n",
       "      <td>NaN</td>\n",
       "      <td>NaN</td>\n",
       "      <td>1</td>\n",
       "      <td>REGULAR</td>\n",
       "      <td>0</td>\n",
       "      <td>1200.0</td>\n",
       "      <td>2016-10-18 23:40:58</td>\n",
       "      <td>0</td>\n",
       "      <td>0</td>\n",
       "      <td>Game Scheduled</td>\n",
       "      <td>NaN</td>\n",
       "      <td>NaN</td>\n",
       "    </tr>\n",
       "    <tr>\n",
       "      <th>1</th>\n",
       "      <td>2016020045_2</td>\n",
       "      <td>2016020045</td>\n",
       "      <td>NaN</td>\n",
       "      <td>NaN</td>\n",
       "      <td>Period Ready</td>\n",
       "      <td>NaN</td>\n",
       "      <td>NaN</td>\n",
       "      <td>NaN</td>\n",
       "      <td>1</td>\n",
       "      <td>REGULAR</td>\n",
       "      <td>0</td>\n",
       "      <td>1200.0</td>\n",
       "      <td>2016-10-19 01:35:28</td>\n",
       "      <td>0</td>\n",
       "      <td>0</td>\n",
       "      <td>Period Ready</td>\n",
       "      <td>NaN</td>\n",
       "      <td>NaN</td>\n",
       "    </tr>\n",
       "    <tr>\n",
       "      <th>2</th>\n",
       "      <td>2016020045_3</td>\n",
       "      <td>2016020045</td>\n",
       "      <td>NaN</td>\n",
       "      <td>NaN</td>\n",
       "      <td>Period Start</td>\n",
       "      <td>NaN</td>\n",
       "      <td>NaN</td>\n",
       "      <td>NaN</td>\n",
       "      <td>1</td>\n",
       "      <td>REGULAR</td>\n",
       "      <td>0</td>\n",
       "      <td>1200.0</td>\n",
       "      <td>2016-10-19 01:40:50</td>\n",
       "      <td>0</td>\n",
       "      <td>0</td>\n",
       "      <td>Period Start</td>\n",
       "      <td>NaN</td>\n",
       "      <td>NaN</td>\n",
       "    </tr>\n",
       "    <tr>\n",
       "      <th>3</th>\n",
       "      <td>2016020045_4</td>\n",
       "      <td>2016020045</td>\n",
       "      <td>16.0</td>\n",
       "      <td>4.0</td>\n",
       "      <td>Faceoff</td>\n",
       "      <td>NaN</td>\n",
       "      <td>0.0</td>\n",
       "      <td>0.0</td>\n",
       "      <td>1</td>\n",
       "      <td>REGULAR</td>\n",
       "      <td>0</td>\n",
       "      <td>1200.0</td>\n",
       "      <td>2016-10-19 01:40:50</td>\n",
       "      <td>0</td>\n",
       "      <td>0</td>\n",
       "      <td>Jonathan Toews faceoff won against Claude Giroux</td>\n",
       "      <td>0.0</td>\n",
       "      <td>0.0</td>\n",
       "    </tr>\n",
       "    <tr>\n",
       "      <th>4</th>\n",
       "      <td>2016020045_5</td>\n",
       "      <td>2016020045</td>\n",
       "      <td>16.0</td>\n",
       "      <td>4.0</td>\n",
       "      <td>Shot</td>\n",
       "      <td>Wrist Shot</td>\n",
       "      <td>-71.0</td>\n",
       "      <td>9.0</td>\n",
       "      <td>1</td>\n",
       "      <td>REGULAR</td>\n",
       "      <td>54</td>\n",
       "      <td>1146.0</td>\n",
       "      <td>2016-10-19 01:41:44</td>\n",
       "      <td>0</td>\n",
       "      <td>0</td>\n",
       "      <td>Artem Anisimov Wrist Shot saved by Michal Neuv...</td>\n",
       "      <td>71.0</td>\n",
       "      <td>-9.0</td>\n",
       "    </tr>\n",
       "  </tbody>\n",
       "</table>\n",
       "</div>"
      ],
      "text/plain": [
       "        play_id     game_id  team_id_for  team_id_against           event  \\\n",
       "0  2016020045_1  2016020045          NaN              NaN  Game Scheduled   \n",
       "1  2016020045_2  2016020045          NaN              NaN    Period Ready   \n",
       "2  2016020045_3  2016020045          NaN              NaN    Period Start   \n",
       "3  2016020045_4  2016020045         16.0              4.0         Faceoff   \n",
       "4  2016020045_5  2016020045         16.0              4.0            Shot   \n",
       "\n",
       "  secondaryType     x    y  period periodType  periodTime  \\\n",
       "0           NaN   NaN  NaN       1    REGULAR           0   \n",
       "1           NaN   NaN  NaN       1    REGULAR           0   \n",
       "2           NaN   NaN  NaN       1    REGULAR           0   \n",
       "3           NaN   0.0  0.0       1    REGULAR           0   \n",
       "4    Wrist Shot -71.0  9.0       1    REGULAR          54   \n",
       "\n",
       "   periodTimeRemaining             dateTime  goals_away  goals_home  \\\n",
       "0               1200.0  2016-10-18 23:40:58           0           0   \n",
       "1               1200.0  2016-10-19 01:35:28           0           0   \n",
       "2               1200.0  2016-10-19 01:40:50           0           0   \n",
       "3               1200.0  2016-10-19 01:40:50           0           0   \n",
       "4               1146.0  2016-10-19 01:41:44           0           0   \n",
       "\n",
       "                                         description  st_x  st_y  \n",
       "0                                     Game Scheduled   NaN   NaN  \n",
       "1                                       Period Ready   NaN   NaN  \n",
       "2                                       Period Start   NaN   NaN  \n",
       "3   Jonathan Toews faceoff won against Claude Giroux   0.0   0.0  \n",
       "4  Artem Anisimov Wrist Shot saved by Michal Neuv...  71.0  -9.0  "
      ]
     },
     "execution_count": 43,
     "metadata": {},
     "output_type": "execute_result"
    }
   ],
   "source": [
    "game_plays.head()"
   ]
  },
  {
   "cell_type": "code",
   "execution_count": 41,
   "metadata": {},
   "outputs": [
    {
     "data": {
      "text/plain": [
       "play_id                      0\n",
       "game_id                      0\n",
       "team_id_for             932705\n",
       "team_id_against         932705\n",
       "event                        0\n",
       "secondaryType          3868513\n",
       "x                      1134364\n",
       "y                      1134333\n",
       "period                       0\n",
       "periodType                   0\n",
       "periodTime                   0\n",
       "periodTimeRemaining     193019\n",
       "dateTime                     0\n",
       "goals_away                   0\n",
       "goals_home                   0\n",
       "description                  0\n",
       "st_x                   1134364\n",
       "st_y                   1134364\n",
       "dtype: int64"
      ]
     },
     "execution_count": 41,
     "metadata": {},
     "output_type": "execute_result"
    }
   ],
   "source": [
    "# Check for missing values\n",
    "game_plays.isnull().sum()"
   ]
  },
  {
   "cell_type": "markdown",
   "metadata": {},
   "source": [
    "#### Cleaning"
   ]
  },
  {
   "cell_type": "code",
   "execution_count": 46,
   "metadata": {},
   "outputs": [
    {
     "name": "stdout",
     "output_type": "stream",
     "text": [
      "        play_id     game_id  team_id_for  team_id_against    event  \\\n",
      "3  2016020045_4  2016020045         16.0              4.0  Faceoff   \n",
      "4  2016020045_5  2016020045         16.0              4.0     Shot   \n",
      "5  2016020045_6  2016020045         16.0              4.0     Goal   \n",
      "6  2016020045_7  2016020045          4.0             16.0  Faceoff   \n",
      "7  2016020045_8  2016020045          4.0             16.0     Shot   \n",
      "\n",
      "  secondaryType     x    y  period periodType  periodTime  \\\n",
      "3           NaN   0.0  0.0       1    REGULAR           0   \n",
      "4    Wrist Shot -71.0  9.0       1    REGULAR          54   \n",
      "5   Wrap-around -88.0  5.0       1    REGULAR          56   \n",
      "6           NaN   0.0  0.0       1    REGULAR          58   \n",
      "7    Wrist Shot  56.0 -7.0       1    REGULAR          69   \n",
      "\n",
      "   periodTimeRemaining             dateTime  goals_away  goals_home  \\\n",
      "3               1200.0  2016-10-19 01:40:50           0           0   \n",
      "4               1146.0  2016-10-19 01:41:44           0           0   \n",
      "5               1144.0  2016-10-19 01:41:48           0           1   \n",
      "6               1142.0  2016-10-19 01:42:30           0           1   \n",
      "7               1131.0  2016-10-19 01:42:41           0           1   \n",
      "\n",
      "                                         description  st_x  st_y  \n",
      "3   Jonathan Toews faceoff won against Claude Giroux   0.0   0.0  \n",
      "4  Artem Anisimov Wrist Shot saved by Michal Neuv...  71.0  -9.0  \n",
      "5  Patrick Kane (1) Wrap-around, assists: Artem A...  88.0  -5.0  \n",
      "6  Pierre-Edouard Bellemare faceoff won against N...   0.0   0.0  \n",
      "7      Dale Weise Wrist Shot saved by Corey Crawford  56.0  -7.0  \n"
     ]
    }
   ],
   "source": [
    "# Remove rows where 'team_id_for' and 'team_id_against' are NaN\n",
    "data_cleaned = game_plays.dropna(subset=['team_id_for', 'team_id_against']).copy()\n",
    "\n",
    "# Convert 'dateTime' to datetime type\n",
    "data_cleaned.loc[:, 'dateTime'] = pd.to_datetime(data_cleaned['dateTime'])\n",
    "\n",
    "# Convert 'x' and 'y' to numeric, coercing errors to NaN\n",
    "data_cleaned.loc[:, 'x'] = pd.to_numeric(data_cleaned['x'], errors='coerce')\n",
    "data_cleaned.loc[:, 'y'] = pd.to_numeric(data_cleaned['y'], errors='coerce')\n",
    "\n",
    "# Fill NaN values in 'x' and 'y' with 0\n",
    "data_cleaned.loc[:, ['x', 'y']] = data_cleaned[['x', 'y']].fillna(0)\n",
    "\n",
    "# Convert 'team_id_for' and 'team_id_against' to integers\n",
    "data_cleaned.loc[:, 'team_id_for'] = data_cleaned['team_id_for'].astype(int)\n",
    "data_cleaned.loc[:, 'team_id_against'] = data_cleaned['team_id_against'].astype(int)\n",
    "\n",
    "# Display the cleaned data \n",
    "print(data_cleaned.head())"
   ]
  },
  {
   "cell_type": "code",
   "execution_count": null,
   "metadata": {},
   "outputs": [],
   "source": []
  }
 ],
 "metadata": {
  "kernelspec": {
   "display_name": "Python 3",
   "language": "python",
   "name": "python3"
  },
  "language_info": {
   "codemirror_mode": {
    "name": "ipython",
    "version": 3
   },
   "file_extension": ".py",
   "mimetype": "text/x-python",
   "name": "python",
   "nbconvert_exporter": "python",
   "pygments_lexer": "ipython3",
   "version": "3.12.3"
  }
 },
 "nbformat": 4,
 "nbformat_minor": 2
}
