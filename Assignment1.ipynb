{
 "cells": [
  {
   "cell_type": "markdown",
   "metadata": {},
   "source": [
    "# Classification model"
   ]
  },
  {
   "cell_type": "markdown",
   "metadata": {},
   "source": [
    "###### Nikitha Mary Thomas"
   ]
  },
  {
   "cell_type": "code",
   "execution_count": 1,
   "metadata": {},
   "outputs": [],
   "source": [
    "import pandas as pd\n",
    "import matplotlib.pyplot as plt\n",
    "import seaborn as sns\n",
    "from sklearn.preprocessing import LabelEncoder, StandardScaler\n",
    "from sklearn.model_selection import train_test_split\n",
    "from sklearn.preprocessing import StandardScaler"
   ]
  },
  {
   "cell_type": "code",
   "execution_count": 2,
   "metadata": {},
   "outputs": [],
   "source": [
    "df=pd.read_csv(\"game_goalie_stats.csv\")"
   ]
  },
  {
   "cell_type": "code",
   "execution_count": 3,
   "metadata": {},
   "outputs": [
    {
     "name": "stdout",
     "output_type": "stream",
     "text": [
      "game_id                          0\n",
      "player_id                        0\n",
      "team_id                          0\n",
      "timeOnIce                        0\n",
      "assists                          0\n",
      "goals                            0\n",
      "pim                              0\n",
      "shots                            0\n",
      "saves                            0\n",
      "powerPlaySaves                   0\n",
      "shortHandedSaves                 0\n",
      "evenSaves                        0\n",
      "shortHandedShotsAgainst          0\n",
      "evenShotsAgainst                 0\n",
      "powerPlayShotsAgainst            0\n",
      "decision                      4102\n",
      "savePercentage                 139\n",
      "powerPlaySavePercentage       4743\n",
      "evenStrengthSavePercentage     197\n",
      "dtype: int64\n"
     ]
    }
   ],
   "source": [
    "# Check for missing values\n",
    "print(df.isnull().sum())"
   ]
  },
  {
   "cell_type": "code",
   "execution_count": 4,
   "metadata": {},
   "outputs": [],
   "source": [
    "# Drop rows with missing values\n",
    "df = df.dropna()"
   ]
  },
  {
   "cell_type": "code",
   "execution_count": 5,
   "metadata": {},
   "outputs": [
    {
     "name": "stdout",
     "output_type": "stream",
     "text": [
      "game_id                       0\n",
      "player_id                     0\n",
      "team_id                       0\n",
      "timeOnIce                     0\n",
      "assists                       0\n",
      "goals                         0\n",
      "pim                           0\n",
      "shots                         0\n",
      "saves                         0\n",
      "powerPlaySaves                0\n",
      "shortHandedSaves              0\n",
      "evenSaves                     0\n",
      "shortHandedShotsAgainst       0\n",
      "evenShotsAgainst              0\n",
      "powerPlayShotsAgainst         0\n",
      "decision                      0\n",
      "savePercentage                0\n",
      "powerPlaySavePercentage       0\n",
      "evenStrengthSavePercentage    0\n",
      "dtype: int64\n"
     ]
    }
   ],
   "source": [
    "print(df.isnull().sum())"
   ]
  },
  {
   "cell_type": "code",
   "execution_count": 6,
   "metadata": {},
   "outputs": [
    {
     "name": "stdout",
     "output_type": "stream",
     "text": [
      "game_id                         int64\n",
      "player_id                       int64\n",
      "team_id                         int64\n",
      "timeOnIce                       int64\n",
      "assists                         int64\n",
      "goals                           int64\n",
      "pim                             int64\n",
      "shots                           int64\n",
      "saves                           int64\n",
      "powerPlaySaves                  int64\n",
      "shortHandedSaves                int64\n",
      "evenSaves                       int64\n",
      "shortHandedShotsAgainst         int64\n",
      "evenShotsAgainst                int64\n",
      "powerPlayShotsAgainst           int64\n",
      "decision                       object\n",
      "savePercentage                float64\n",
      "powerPlaySavePercentage       float64\n",
      "evenStrengthSavePercentage    float64\n",
      "dtype: object\n"
     ]
    }
   ],
   "source": [
    "print(df.dtypes)"
   ]
  },
  {
   "cell_type": "code",
   "execution_count": 7,
   "metadata": {},
   "outputs": [
    {
     "data": {
      "text/html": [
       "<div>\n",
       "<style scoped>\n",
       "    .dataframe tbody tr th:only-of-type {\n",
       "        vertical-align: middle;\n",
       "    }\n",
       "\n",
       "    .dataframe tbody tr th {\n",
       "        vertical-align: top;\n",
       "    }\n",
       "\n",
       "    .dataframe thead th {\n",
       "        text-align: right;\n",
       "    }\n",
       "</style>\n",
       "<table border=\"1\" class=\"dataframe\">\n",
       "  <thead>\n",
       "    <tr style=\"text-align: right;\">\n",
       "      <th></th>\n",
       "      <th>game_id</th>\n",
       "      <th>player_id</th>\n",
       "      <th>team_id</th>\n",
       "      <th>timeOnIce</th>\n",
       "      <th>assists</th>\n",
       "      <th>goals</th>\n",
       "      <th>pim</th>\n",
       "      <th>shots</th>\n",
       "      <th>saves</th>\n",
       "      <th>powerPlaySaves</th>\n",
       "      <th>shortHandedSaves</th>\n",
       "      <th>evenSaves</th>\n",
       "      <th>shortHandedShotsAgainst</th>\n",
       "      <th>evenShotsAgainst</th>\n",
       "      <th>powerPlayShotsAgainst</th>\n",
       "      <th>savePercentage</th>\n",
       "      <th>powerPlaySavePercentage</th>\n",
       "      <th>evenStrengthSavePercentage</th>\n",
       "    </tr>\n",
       "  </thead>\n",
       "  <tbody>\n",
       "    <tr>\n",
       "      <th>count</th>\n",
       "      <td>4.928400e+04</td>\n",
       "      <td>4.928400e+04</td>\n",
       "      <td>49284.000000</td>\n",
       "      <td>49284.000000</td>\n",
       "      <td>49284.000000</td>\n",
       "      <td>49284.000000</td>\n",
       "      <td>49284.000000</td>\n",
       "      <td>49284.000000</td>\n",
       "      <td>49284.000000</td>\n",
       "      <td>49284.000000</td>\n",
       "      <td>49284.000000</td>\n",
       "      <td>49284.000000</td>\n",
       "      <td>49284.000000</td>\n",
       "      <td>49284.000000</td>\n",
       "      <td>49284.000000</td>\n",
       "      <td>49284.000000</td>\n",
       "      <td>49284.000000</td>\n",
       "      <td>49284.000000</td>\n",
       "    </tr>\n",
       "    <tr>\n",
       "      <th>mean</th>\n",
       "      <td>2.010659e+09</td>\n",
       "      <td>8.468025e+06</td>\n",
       "      <td>16.850499</td>\n",
       "      <td>3539.682514</td>\n",
       "      <td>0.022360</td>\n",
       "      <td>0.000183</td>\n",
       "      <td>0.090800</td>\n",
       "      <td>29.332907</td>\n",
       "      <td>26.761992</td>\n",
       "      <td>4.546729</td>\n",
       "      <td>0.826577</td>\n",
       "      <td>21.388118</td>\n",
       "      <td>0.902605</td>\n",
       "      <td>23.207532</td>\n",
       "      <td>5.222040</td>\n",
       "      <td>90.659817</td>\n",
       "      <td>84.651259</td>\n",
       "      <td>91.614120</td>\n",
       "    </tr>\n",
       "    <tr>\n",
       "      <th>std</th>\n",
       "      <td>6.079323e+06</td>\n",
       "      <td>7.471332e+03</td>\n",
       "      <td>11.076745</td>\n",
       "      <td>431.651544</td>\n",
       "      <td>0.149627</td>\n",
       "      <td>0.013512</td>\n",
       "      <td>0.587195</td>\n",
       "      <td>7.375624</td>\n",
       "      <td>7.375287</td>\n",
       "      <td>3.094339</td>\n",
       "      <td>1.070196</td>\n",
       "      <td>6.682048</td>\n",
       "      <td>1.129039</td>\n",
       "      <td>6.772422</td>\n",
       "      <td>3.275849</td>\n",
       "      <td>6.275837</td>\n",
       "      <td>22.005313</td>\n",
       "      <td>6.762308</td>\n",
       "    </tr>\n",
       "    <tr>\n",
       "      <th>min</th>\n",
       "      <td>2.000020e+09</td>\n",
       "      <td>8.445275e+06</td>\n",
       "      <td>1.000000</td>\n",
       "      <td>196.000000</td>\n",
       "      <td>0.000000</td>\n",
       "      <td>0.000000</td>\n",
       "      <td>0.000000</td>\n",
       "      <td>2.000000</td>\n",
       "      <td>1.000000</td>\n",
       "      <td>0.000000</td>\n",
       "      <td>-1.000000</td>\n",
       "      <td>0.000000</td>\n",
       "      <td>0.000000</td>\n",
       "      <td>1.000000</td>\n",
       "      <td>1.000000</td>\n",
       "      <td>20.000000</td>\n",
       "      <td>0.000000</td>\n",
       "      <td>0.000000</td>\n",
       "    </tr>\n",
       "    <tr>\n",
       "      <th>25%</th>\n",
       "      <td>2.006020e+09</td>\n",
       "      <td>8.462052e+06</td>\n",
       "      <td>8.000000</td>\n",
       "      <td>3550.000000</td>\n",
       "      <td>0.000000</td>\n",
       "      <td>0.000000</td>\n",
       "      <td>0.000000</td>\n",
       "      <td>24.000000</td>\n",
       "      <td>22.000000</td>\n",
       "      <td>2.000000</td>\n",
       "      <td>0.000000</td>\n",
       "      <td>17.000000</td>\n",
       "      <td>0.000000</td>\n",
       "      <td>19.000000</td>\n",
       "      <td>3.000000</td>\n",
       "      <td>87.500000</td>\n",
       "      <td>75.000000</td>\n",
       "      <td>88.235294</td>\n",
       "    </tr>\n",
       "    <tr>\n",
       "      <th>50%</th>\n",
       "      <td>2.011021e+09</td>\n",
       "      <td>8.470147e+06</td>\n",
       "      <td>16.000000</td>\n",
       "      <td>3600.000000</td>\n",
       "      <td>0.000000</td>\n",
       "      <td>0.000000</td>\n",
       "      <td>0.000000</td>\n",
       "      <td>29.000000</td>\n",
       "      <td>27.000000</td>\n",
       "      <td>4.000000</td>\n",
       "      <td>1.000000</td>\n",
       "      <td>21.000000</td>\n",
       "      <td>1.000000</td>\n",
       "      <td>23.000000</td>\n",
       "      <td>5.000000</td>\n",
       "      <td>91.666667</td>\n",
       "      <td>92.857143</td>\n",
       "      <td>92.592593</td>\n",
       "    </tr>\n",
       "    <tr>\n",
       "      <th>75%</th>\n",
       "      <td>2.016021e+09</td>\n",
       "      <td>8.473575e+06</td>\n",
       "      <td>24.000000</td>\n",
       "      <td>3600.000000</td>\n",
       "      <td>0.000000</td>\n",
       "      <td>0.000000</td>\n",
       "      <td>0.000000</td>\n",
       "      <td>34.000000</td>\n",
       "      <td>31.000000</td>\n",
       "      <td>6.000000</td>\n",
       "      <td>1.000000</td>\n",
       "      <td>26.000000</td>\n",
       "      <td>1.000000</td>\n",
       "      <td>28.000000</td>\n",
       "      <td>7.000000</td>\n",
       "      <td>95.000000</td>\n",
       "      <td>100.000000</td>\n",
       "      <td>96.000000</td>\n",
       "    </tr>\n",
       "    <tr>\n",
       "      <th>max</th>\n",
       "      <td>2.019030e+09</td>\n",
       "      <td>8.480925e+06</td>\n",
       "      <td>54.000000</td>\n",
       "      <td>9027.000000</td>\n",
       "      <td>2.000000</td>\n",
       "      <td>1.000000</td>\n",
       "      <td>27.000000</td>\n",
       "      <td>88.000000</td>\n",
       "      <td>85.000000</td>\n",
       "      <td>25.000000</td>\n",
       "      <td>15.000000</td>\n",
       "      <td>76.000000</td>\n",
       "      <td>15.000000</td>\n",
       "      <td>79.000000</td>\n",
       "      <td>28.000000</td>\n",
       "      <td>100.000000</td>\n",
       "      <td>100.000000</td>\n",
       "      <td>100.000000</td>\n",
       "    </tr>\n",
       "  </tbody>\n",
       "</table>\n",
       "</div>"
      ],
      "text/plain": [
       "            game_id     player_id       team_id     timeOnIce       assists  \\\n",
       "count  4.928400e+04  4.928400e+04  49284.000000  49284.000000  49284.000000   \n",
       "mean   2.010659e+09  8.468025e+06     16.850499   3539.682514      0.022360   \n",
       "std    6.079323e+06  7.471332e+03     11.076745    431.651544      0.149627   \n",
       "min    2.000020e+09  8.445275e+06      1.000000    196.000000      0.000000   \n",
       "25%    2.006020e+09  8.462052e+06      8.000000   3550.000000      0.000000   \n",
       "50%    2.011021e+09  8.470147e+06     16.000000   3600.000000      0.000000   \n",
       "75%    2.016021e+09  8.473575e+06     24.000000   3600.000000      0.000000   \n",
       "max    2.019030e+09  8.480925e+06     54.000000   9027.000000      2.000000   \n",
       "\n",
       "              goals           pim         shots         saves  powerPlaySaves  \\\n",
       "count  49284.000000  49284.000000  49284.000000  49284.000000    49284.000000   \n",
       "mean       0.000183      0.090800     29.332907     26.761992        4.546729   \n",
       "std        0.013512      0.587195      7.375624      7.375287        3.094339   \n",
       "min        0.000000      0.000000      2.000000      1.000000        0.000000   \n",
       "25%        0.000000      0.000000     24.000000     22.000000        2.000000   \n",
       "50%        0.000000      0.000000     29.000000     27.000000        4.000000   \n",
       "75%        0.000000      0.000000     34.000000     31.000000        6.000000   \n",
       "max        1.000000     27.000000     88.000000     85.000000       25.000000   \n",
       "\n",
       "       shortHandedSaves     evenSaves  shortHandedShotsAgainst  \\\n",
       "count      49284.000000  49284.000000             49284.000000   \n",
       "mean           0.826577     21.388118                 0.902605   \n",
       "std            1.070196      6.682048                 1.129039   \n",
       "min           -1.000000      0.000000                 0.000000   \n",
       "25%            0.000000     17.000000                 0.000000   \n",
       "50%            1.000000     21.000000                 1.000000   \n",
       "75%            1.000000     26.000000                 1.000000   \n",
       "max           15.000000     76.000000                15.000000   \n",
       "\n",
       "       evenShotsAgainst  powerPlayShotsAgainst  savePercentage  \\\n",
       "count      49284.000000           49284.000000    49284.000000   \n",
       "mean          23.207532               5.222040       90.659817   \n",
       "std            6.772422               3.275849        6.275837   \n",
       "min            1.000000               1.000000       20.000000   \n",
       "25%           19.000000               3.000000       87.500000   \n",
       "50%           23.000000               5.000000       91.666667   \n",
       "75%           28.000000               7.000000       95.000000   \n",
       "max           79.000000              28.000000      100.000000   \n",
       "\n",
       "       powerPlaySavePercentage  evenStrengthSavePercentage  \n",
       "count             49284.000000                49284.000000  \n",
       "mean                 84.651259                   91.614120  \n",
       "std                  22.005313                    6.762308  \n",
       "min                   0.000000                    0.000000  \n",
       "25%                  75.000000                   88.235294  \n",
       "50%                  92.857143                   92.592593  \n",
       "75%                 100.000000                   96.000000  \n",
       "max                 100.000000                  100.000000  "
      ]
     },
     "execution_count": 7,
     "metadata": {},
     "output_type": "execute_result"
    }
   ],
   "source": [
    "df.describe()"
   ]
  },
  {
   "cell_type": "code",
   "execution_count": 8,
   "metadata": {},
   "outputs": [
    {
     "data": {
      "text/plain": [
       "(49284, 19)"
      ]
     },
     "execution_count": 8,
     "metadata": {},
     "output_type": "execute_result"
    }
   ],
   "source": [
    "df.shape"
   ]
  },
  {
   "cell_type": "code",
   "execution_count": 9,
   "metadata": {},
   "outputs": [],
   "source": [
    "#Handle categorical variables\n",
    "le = LabelEncoder()\n",
    "df[\"decision\"] = le.fit_transform(df[\"decision\"])"
   ]
  },
  {
   "cell_type": "code",
   "execution_count": 10,
   "metadata": {},
   "outputs": [],
   "source": [
    "#Split the data into features and target\n",
    "X = df[[\"timeOnIce\", \"assists\", \"goals\", \"pim\", \"shots\", \"saves\", \"powerPlaySaves\", \"shortHandedSaves\", \"evenSaves\", \"shortHandedShotsAgainst\", \"evenShotsAgainst\", \"powerPlayShotsAgainst\", \"savePercentage\", \"powerPlaySavePercentage\", \"evenStrengthSavePercentage\"]]\n",
    "y = df[\"decision\"]"
   ]
  },
  {
   "cell_type": "code",
   "execution_count": 11,
   "metadata": {},
   "outputs": [],
   "source": [
    "#Scale the features\n",
    "scaler = StandardScaler()\n",
    "X_scaled = scaler.fit_transform(X)"
   ]
  },
  {
   "cell_type": "code",
   "execution_count": 12,
   "metadata": {},
   "outputs": [],
   "source": [
    "#Split the data into training and testing sets\n",
    "X_train, X_test, y_train, y_test = train_test_split(X_scaled, y, test_size=0.2, random_state=42)"
   ]
  },
  {
   "cell_type": "markdown",
   "metadata": {},
   "source": [
    "## fill training and evaluation"
   ]
  },
  {
   "cell_type": "code",
   "execution_count": 13,
   "metadata": {},
   "outputs": [],
   "source": [
    "# Standardize the input features\n",
    "scaler = StandardScaler()\n",
    "X_train_scaled = scaler.fit_transform(X_train)\n",
    "X_test_scaled = scaler.transform(X_test)"
   ]
  },
  {
   "cell_type": "markdown",
   "metadata": {},
   "source": [
    "Keras"
   ]
  },
  {
   "cell_type": "markdown",
   "metadata": {},
   "source": [
    "###### Geethu Vijayan, Nimisha Parameswaran Thankamani"
   ]
  },
  {
   "cell_type": "code",
   "execution_count": 14,
   "metadata": {},
   "outputs": [
    {
     "name": "stderr",
     "output_type": "stream",
     "text": [
      "c:\\Users\\nimis\\AppData\\Local\\Programs\\Python\\Python312\\Lib\\site-packages\\keras\\src\\layers\\core\\dense.py:85: UserWarning: Do not pass an `input_shape`/`input_dim` argument to a layer. When using Sequential models, prefer using an `Input(shape)` object as the first layer in the model instead.\n",
      "  super().__init__(activity_regularizer=activity_regularizer, **kwargs)\n"
     ]
    }
   ],
   "source": [
    "# Build the ANN model\n",
    "from tensorflow.keras.models import Sequential\n",
    "from tensorflow.keras.layers import Dense\n",
    "\n",
    "model = Sequential()\n",
    "model.add(Dense(10, activation='relu', input_shape=(X_train.shape[1],)))\n",
    "# model.add(Dense(10, activation='relu'))\n",
    "model.add(Dense(5, activation='relu'))\n",
    "model.add(Dense(2, activation='softmax'))"
   ]
  },
  {
   "cell_type": "code",
   "execution_count": 15,
   "metadata": {},
   "outputs": [
    {
     "data": {
      "text/html": [
       "<pre style=\"white-space:pre;overflow-x:auto;line-height:normal;font-family:Menlo,'DejaVu Sans Mono',consolas,'Courier New',monospace\"><span style=\"font-weight: bold\">Model: \"sequential\"</span>\n",
       "</pre>\n"
      ],
      "text/plain": [
       "\u001b[1mModel: \"sequential\"\u001b[0m\n"
      ]
     },
     "metadata": {},
     "output_type": "display_data"
    },
    {
     "data": {
      "text/html": [
       "<pre style=\"white-space:pre;overflow-x:auto;line-height:normal;font-family:Menlo,'DejaVu Sans Mono',consolas,'Courier New',monospace\">┏━━━━━━━━━━━━━━━━━━━━━━━━━━━━━━━━━┳━━━━━━━━━━━━━━━━━━━━━━━━┳━━━━━━━━━━━━━━━┓\n",
       "┃<span style=\"font-weight: bold\"> Layer (type)                    </span>┃<span style=\"font-weight: bold\"> Output Shape           </span>┃<span style=\"font-weight: bold\">       Param # </span>┃\n",
       "┡━━━━━━━━━━━━━━━━━━━━━━━━━━━━━━━━━╇━━━━━━━━━━━━━━━━━━━━━━━━╇━━━━━━━━━━━━━━━┩\n",
       "│ dense (<span style=\"color: #0087ff; text-decoration-color: #0087ff\">Dense</span>)                   │ (<span style=\"color: #00d7ff; text-decoration-color: #00d7ff\">None</span>, <span style=\"color: #00af00; text-decoration-color: #00af00\">10</span>)             │           <span style=\"color: #00af00; text-decoration-color: #00af00\">160</span> │\n",
       "├─────────────────────────────────┼────────────────────────┼───────────────┤\n",
       "│ dense_1 (<span style=\"color: #0087ff; text-decoration-color: #0087ff\">Dense</span>)                 │ (<span style=\"color: #00d7ff; text-decoration-color: #00d7ff\">None</span>, <span style=\"color: #00af00; text-decoration-color: #00af00\">5</span>)              │            <span style=\"color: #00af00; text-decoration-color: #00af00\">55</span> │\n",
       "├─────────────────────────────────┼────────────────────────┼───────────────┤\n",
       "│ dense_2 (<span style=\"color: #0087ff; text-decoration-color: #0087ff\">Dense</span>)                 │ (<span style=\"color: #00d7ff; text-decoration-color: #00d7ff\">None</span>, <span style=\"color: #00af00; text-decoration-color: #00af00\">2</span>)              │            <span style=\"color: #00af00; text-decoration-color: #00af00\">12</span> │\n",
       "└─────────────────────────────────┴────────────────────────┴───────────────┘\n",
       "</pre>\n"
      ],
      "text/plain": [
       "┏━━━━━━━━━━━━━━━━━━━━━━━━━━━━━━━━━┳━━━━━━━━━━━━━━━━━━━━━━━━┳━━━━━━━━━━━━━━━┓\n",
       "┃\u001b[1m \u001b[0m\u001b[1mLayer (type)                   \u001b[0m\u001b[1m \u001b[0m┃\u001b[1m \u001b[0m\u001b[1mOutput Shape          \u001b[0m\u001b[1m \u001b[0m┃\u001b[1m \u001b[0m\u001b[1m      Param #\u001b[0m\u001b[1m \u001b[0m┃\n",
       "┡━━━━━━━━━━━━━━━━━━━━━━━━━━━━━━━━━╇━━━━━━━━━━━━━━━━━━━━━━━━╇━━━━━━━━━━━━━━━┩\n",
       "│ dense (\u001b[38;5;33mDense\u001b[0m)                   │ (\u001b[38;5;45mNone\u001b[0m, \u001b[38;5;34m10\u001b[0m)             │           \u001b[38;5;34m160\u001b[0m │\n",
       "├─────────────────────────────────┼────────────────────────┼───────────────┤\n",
       "│ dense_1 (\u001b[38;5;33mDense\u001b[0m)                 │ (\u001b[38;5;45mNone\u001b[0m, \u001b[38;5;34m5\u001b[0m)              │            \u001b[38;5;34m55\u001b[0m │\n",
       "├─────────────────────────────────┼────────────────────────┼───────────────┤\n",
       "│ dense_2 (\u001b[38;5;33mDense\u001b[0m)                 │ (\u001b[38;5;45mNone\u001b[0m, \u001b[38;5;34m2\u001b[0m)              │            \u001b[38;5;34m12\u001b[0m │\n",
       "└─────────────────────────────────┴────────────────────────┴───────────────┘\n"
      ]
     },
     "metadata": {},
     "output_type": "display_data"
    },
    {
     "data": {
      "text/html": [
       "<pre style=\"white-space:pre;overflow-x:auto;line-height:normal;font-family:Menlo,'DejaVu Sans Mono',consolas,'Courier New',monospace\"><span style=\"font-weight: bold\"> Total params: </span><span style=\"color: #00af00; text-decoration-color: #00af00\">227</span> (908.00 B)\n",
       "</pre>\n"
      ],
      "text/plain": [
       "\u001b[1m Total params: \u001b[0m\u001b[38;5;34m227\u001b[0m (908.00 B)\n"
      ]
     },
     "metadata": {},
     "output_type": "display_data"
    },
    {
     "data": {
      "text/html": [
       "<pre style=\"white-space:pre;overflow-x:auto;line-height:normal;font-family:Menlo,'DejaVu Sans Mono',consolas,'Courier New',monospace\"><span style=\"font-weight: bold\"> Trainable params: </span><span style=\"color: #00af00; text-decoration-color: #00af00\">227</span> (908.00 B)\n",
       "</pre>\n"
      ],
      "text/plain": [
       "\u001b[1m Trainable params: \u001b[0m\u001b[38;5;34m227\u001b[0m (908.00 B)\n"
      ]
     },
     "metadata": {},
     "output_type": "display_data"
    },
    {
     "data": {
      "text/html": [
       "<pre style=\"white-space:pre;overflow-x:auto;line-height:normal;font-family:Menlo,'DejaVu Sans Mono',consolas,'Courier New',monospace\"><span style=\"font-weight: bold\"> Non-trainable params: </span><span style=\"color: #00af00; text-decoration-color: #00af00\">0</span> (0.00 B)\n",
       "</pre>\n"
      ],
      "text/plain": [
       "\u001b[1m Non-trainable params: \u001b[0m\u001b[38;5;34m0\u001b[0m (0.00 B)\n"
      ]
     },
     "metadata": {},
     "output_type": "display_data"
    }
   ],
   "source": [
    "# Compile the model\n",
    "model.compile(optimizer='adam', loss='sparse_categorical_crossentropy', metrics=['accuracy'])\n",
    "model.summary()\n"
   ]
  },
  {
   "cell_type": "code",
   "execution_count": 16,
   "metadata": {},
   "outputs": [
    {
     "name": "stdout",
     "output_type": "stream",
     "text": [
      "Epoch 1/20\n",
      "\u001b[1m986/986\u001b[0m \u001b[32m━━━━━━━━━━━━━━━━━━━━\u001b[0m\u001b[37m\u001b[0m \u001b[1m4s\u001b[0m 2ms/step - accuracy: 0.6681 - loss: 0.6031 - val_accuracy: 0.7518 - val_loss: 0.4994\n",
      "Epoch 2/20\n",
      "\u001b[1m986/986\u001b[0m \u001b[32m━━━━━━━━━━━━━━━━━━━━\u001b[0m\u001b[37m\u001b[0m \u001b[1m2s\u001b[0m 2ms/step - accuracy: 0.7518 - loss: 0.4965 - val_accuracy: 0.7508 - val_loss: 0.4888\n",
      "Epoch 3/20\n",
      "\u001b[1m986/986\u001b[0m \u001b[32m━━━━━━━━━━━━━━━━━━━━\u001b[0m\u001b[37m\u001b[0m \u001b[1m2s\u001b[0m 2ms/step - accuracy: 0.7556 - loss: 0.4816 - val_accuracy: 0.7641 - val_loss: 0.4656\n",
      "Epoch 4/20\n",
      "\u001b[1m986/986\u001b[0m \u001b[32m━━━━━━━━━━━━━━━━━━━━\u001b[0m\u001b[37m\u001b[0m \u001b[1m3s\u001b[0m 3ms/step - accuracy: 0.7703 - loss: 0.4524 - val_accuracy: 0.8017 - val_loss: 0.4106\n",
      "Epoch 5/20\n",
      "\u001b[1m986/986\u001b[0m \u001b[32m━━━━━━━━━━━━━━━━━━━━\u001b[0m\u001b[37m\u001b[0m \u001b[1m2s\u001b[0m 2ms/step - accuracy: 0.8061 - loss: 0.3954 - val_accuracy: 0.8317 - val_loss: 0.3618\n",
      "Epoch 6/20\n",
      "\u001b[1m986/986\u001b[0m \u001b[32m━━━━━━━━━━━━━━━━━━━━\u001b[0m\u001b[37m\u001b[0m \u001b[1m2s\u001b[0m 2ms/step - accuracy: 0.8351 - loss: 0.3454 - val_accuracy: 0.8359 - val_loss: 0.3388\n",
      "Epoch 7/20\n",
      "\u001b[1m986/986\u001b[0m \u001b[32m━━━━━━━━━━━━━━━━━━━━\u001b[0m\u001b[37m\u001b[0m \u001b[1m2s\u001b[0m 2ms/step - accuracy: 0.8359 - loss: 0.3321 - val_accuracy: 0.8409 - val_loss: 0.3253\n",
      "Epoch 8/20\n",
      "\u001b[1m986/986\u001b[0m \u001b[32m━━━━━━━━━━━━━━━━━━━━\u001b[0m\u001b[37m\u001b[0m \u001b[1m2s\u001b[0m 2ms/step - accuracy: 0.8395 - loss: 0.3223 - val_accuracy: 0.8391 - val_loss: 0.3227\n",
      "Epoch 9/20\n",
      "\u001b[1m986/986\u001b[0m \u001b[32m━━━━━━━━━━━━━━━━━━━━\u001b[0m\u001b[37m\u001b[0m \u001b[1m3s\u001b[0m 3ms/step - accuracy: 0.8393 - loss: 0.3207 - val_accuracy: 0.8411 - val_loss: 0.3184\n",
      "Epoch 10/20\n",
      "\u001b[1m986/986\u001b[0m \u001b[32m━━━━━━━━━━━━━━━━━━━━\u001b[0m\u001b[37m\u001b[0m \u001b[1m3s\u001b[0m 3ms/step - accuracy: 0.8409 - loss: 0.3161 - val_accuracy: 0.8377 - val_loss: 0.3179\n",
      "Epoch 11/20\n",
      "\u001b[1m986/986\u001b[0m \u001b[32m━━━━━━━━━━━━━━━━━━━━\u001b[0m\u001b[37m\u001b[0m \u001b[1m3s\u001b[0m 3ms/step - accuracy: 0.8416 - loss: 0.3073 - val_accuracy: 0.8411 - val_loss: 0.3147\n",
      "Epoch 12/20\n",
      "\u001b[1m986/986\u001b[0m \u001b[32m━━━━━━━━━━━━━━━━━━━━\u001b[0m\u001b[37m\u001b[0m \u001b[1m3s\u001b[0m 3ms/step - accuracy: 0.8438 - loss: 0.3099 - val_accuracy: 0.8421 - val_loss: 0.3139\n",
      "Epoch 13/20\n",
      "\u001b[1m986/986\u001b[0m \u001b[32m━━━━━━━━━━━━━━━━━━━━\u001b[0m\u001b[37m\u001b[0m \u001b[1m3s\u001b[0m 3ms/step - accuracy: 0.8435 - loss: 0.3053 - val_accuracy: 0.8395 - val_loss: 0.3149\n",
      "Epoch 14/20\n",
      "\u001b[1m986/986\u001b[0m \u001b[32m━━━━━━━━━━━━━━━━━━━━\u001b[0m\u001b[37m\u001b[0m \u001b[1m2s\u001b[0m 2ms/step - accuracy: 0.8417 - loss: 0.3091 - val_accuracy: 0.8455 - val_loss: 0.3123\n",
      "Epoch 15/20\n",
      "\u001b[1m986/986\u001b[0m \u001b[32m━━━━━━━━━━━━━━━━━━━━\u001b[0m\u001b[37m\u001b[0m \u001b[1m2s\u001b[0m 2ms/step - accuracy: 0.8411 - loss: 0.3080 - val_accuracy: 0.8457 - val_loss: 0.3109\n",
      "Epoch 16/20\n",
      "\u001b[1m986/986\u001b[0m \u001b[32m━━━━━━━━━━━━━━━━━━━━\u001b[0m\u001b[37m\u001b[0m \u001b[1m3s\u001b[0m 2ms/step - accuracy: 0.8405 - loss: 0.3062 - val_accuracy: 0.8462 - val_loss: 0.3119\n",
      "Epoch 17/20\n",
      "\u001b[1m986/986\u001b[0m \u001b[32m━━━━━━━━━━━━━━━━━━━━\u001b[0m\u001b[37m\u001b[0m \u001b[1m3s\u001b[0m 3ms/step - accuracy: 0.8405 - loss: 0.3111 - val_accuracy: 0.8420 - val_loss: 0.3107\n",
      "Epoch 18/20\n",
      "\u001b[1m986/986\u001b[0m \u001b[32m━━━━━━━━━━━━━━━━━━━━\u001b[0m\u001b[37m\u001b[0m \u001b[1m3s\u001b[0m 3ms/step - accuracy: 0.8437 - loss: 0.3081 - val_accuracy: 0.8419 - val_loss: 0.3147\n",
      "Epoch 19/20\n",
      "\u001b[1m986/986\u001b[0m \u001b[32m━━━━━━━━━━━━━━━━━━━━\u001b[0m\u001b[37m\u001b[0m \u001b[1m3s\u001b[0m 3ms/step - accuracy: 0.8411 - loss: 0.3119 - val_accuracy: 0.8486 - val_loss: 0.3111\n",
      "Epoch 20/20\n",
      "\u001b[1m986/986\u001b[0m \u001b[32m━━━━━━━━━━━━━━━━━━━━\u001b[0m\u001b[37m\u001b[0m \u001b[1m2s\u001b[0m 2ms/step - accuracy: 0.8412 - loss: 0.3110 - val_accuracy: 0.8414 - val_loss: 0.3137\n"
     ]
    }
   ],
   "source": [
    "# Train the model\n",
    "history = model.fit(X_train_scaled, y_train, epochs=20, batch_size=32, verbose=1, validation_split=0.2)\n"
   ]
  },
  {
   "cell_type": "markdown",
   "metadata": {},
   "source": [
    "###### Anju Ann Sunny, Nikitha Mary Thomas"
   ]
  },
  {
   "cell_type": "code",
   "execution_count": 17,
   "metadata": {},
   "outputs": [
    {
     "name": "stdout",
     "output_type": "stream",
     "text": [
      "Test accuracy: 0.845186173915863\n"
     ]
    }
   ],
   "source": [
    "# Evaluate the model\n",
    "test_loss, test_acc = model.evaluate(X_test_scaled, y_test, verbose=0)\n",
    "print('Test accuracy:', test_acc)"
   ]
  },
  {
   "cell_type": "code",
   "execution_count": 18,
   "metadata": {},
   "outputs": [
    {
     "name": "stdout",
     "output_type": "stream",
     "text": [
      "\u001b[1m309/309\u001b[0m \u001b[32m━━━━━━━━━━━━━━━━━━━━\u001b[0m\u001b[37m\u001b[0m \u001b[1m1s\u001b[0m 2ms/step\n",
      "Confusion Matrix:\n",
      "[[4260  636]\n",
      " [ 890 4071]]\n",
      "\n",
      "Classification Errors:\n",
      "Number of errors: 1526\n",
      "Error rate: 0.15481383788170844\n",
      "\n",
      "Classification Report:\n",
      "              precision    recall  f1-score   support\n",
      "\n",
      "         win       0.83      0.87      0.85      4896\n",
      "        loss       0.86      0.82      0.84      4961\n",
      "\n",
      "    accuracy                           0.85      9857\n",
      "   macro avg       0.85      0.85      0.85      9857\n",
      "weighted avg       0.85      0.85      0.85      9857\n",
      "\n"
     ]
    }
   ],
   "source": [
    "import numpy as np\n",
    "from sklearn.metrics import confusion_matrix, classification_report\n",
    "\n",
    "# Predict probabilities for each class for test set\n",
    "y_pred_prob = model.predict(X_test_scaled)\n",
    "\n",
    "# Convert probabilities to class labels\n",
    "y_pred = np.argmax(y_pred_prob, axis=1)\n",
    "\n",
    "# Compute confusion matrix\n",
    "conf_matrix = confusion_matrix(y_test, y_pred)\n",
    "\n",
    "# Print confusion matrix\n",
    "print(\"Confusion Matrix:\")\n",
    "print(conf_matrix)\n",
    "\n",
    "# Calculate classification errors\n",
    "errors = conf_matrix[0, 1] + conf_matrix[1, 0]\n",
    "total_samples = len(y_test)\n",
    "error_rate = errors / total_samples\n",
    "\n",
    "print(\"\\nClassification Errors:\")\n",
    "print(\"Number of errors:\", errors)\n",
    "print(\"Error rate:\", error_rate)\n",
    "\n",
    "# Print classification report\n",
    "target_names = ['win', 'loss']  # Assuming 'win' is class 0 and 'loss' is class 1\n",
    "print(\"\\nClassification Report:\")\n",
    "print(classification_report(y_test, y_pred, target_names=target_names))\n"
   ]
  },
  {
   "cell_type": "code",
   "execution_count": 19,
   "metadata": {},
   "outputs": [
    {
     "data": {
      "image/png": "[encoded data removed]",
      "text/plain": [
       "<Figure size 800x600 with 2 Axes>"
      ]
     },
     "metadata": {},
     "output_type": "display_data"
    }
   ],
   "source": [
    "import seaborn as sns\n",
    "import matplotlib.pyplot as plt\n",
    "\n",
    "# Plot confusion matrix as heatmap\n",
    "plt.figure(figsize=(8, 6))\n",
    "sns.heatmap(conf_matrix, annot=True, fmt='d', cmap='Pastel1', xticklabels=target_names, yticklabels=target_names)\n",
    "plt.xlabel('Predicted Labels')\n",
    "plt.ylabel('True Labels')\n",
    "plt.title('Confusion Matrix')\n",
    "plt.show()\n"
   ]
  },
  {
   "cell_type": "code",
   "execution_count": 20,
   "metadata": {},
   "outputs": [
    {
     "data": {
      "image/png": "[encoded data removed]",
      "text/plain": [
       "<Figure size 1200x600 with 2 Axes>"
      ]
     },
     "metadata": {},
     "output_type": "display_data"
    }
   ],
   "source": [
    "import matplotlib.pyplot as plt\n",
    "\n",
    "# Plot training history\n",
    "plt.figure(figsize=(12, 6))\n",
    "\n",
    "# Plot training & validation accuracy values\n",
    "plt.subplot(1, 2, 1)\n",
    "plt.plot(history.history['accuracy'])\n",
    "plt.plot(history.history['val_accuracy'])\n",
    "plt.title('Model accuracy')\n",
    "plt.ylabel('Accuracy')\n",
    "plt.xlabel('Epoch')\n",
    "plt.legend(['Train', 'Validation'], loc='upper left')\n",
    "\n",
    "# Plot training & validation loss values\n",
    "plt.subplot(1, 2, 2)\n",
    "plt.plot(history.history['loss'])\n",
    "plt.plot(history.history['val_loss'])\n",
    "plt.title('Model loss')\n",
    "plt.ylabel('Loss')\n",
    "plt.xlabel('Epoch')\n",
    "plt.legend(['Train', 'Validation'], loc='upper left')\n",
    "\n",
    "plt.tight_layout()\n",
    "plt.show()\n"
   ]
  },
  {
   "cell_type": "code",
   "execution_count": 21,
   "metadata": {},
   "outputs": [],
   "source": [
    "# Save the model\n",
    "model.save(\"model.keras\")\n"
   ]
  },
  {
   "cell_type": "code",
   "execution_count": 22,
   "metadata": {},
   "outputs": [],
   "source": [
    "# from tensorflow.keras.models import load_model\n",
    "\n",
    "# # Load the model\n",
    "# loaded_model = load_model(\"model.keras\")\n"
   ]
  }
 ],
 "metadata": {
  "kernelspec": {
   "display_name": "Python 3",
   "language": "python",
   "name": "python3"
  },
  "language_info": {
   "codemirror_mode": {
    "name": "ipython",
    "version": 3
   },
   "file_extension": ".py",
   "mimetype": "text/x-python",
   "name": "python",
   "nbconvert_exporter": "python",
   "pygments_lexer": "ipython3",
   "version": "3.12.1"
  }
 },
 "nbformat": 4,
 "nbformat_minor": 2
}
