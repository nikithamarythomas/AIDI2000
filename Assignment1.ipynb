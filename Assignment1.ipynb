{
 "cells": [
  {
   "cell_type": "markdown",
   "metadata": {},
   "source": [
    "# Classification model"
   ]
  },
  {
   "cell_type": "markdown",
   "metadata": {},
   "source": [
    "###### Nikitha"
   ]
  },
  {
   "cell_type": "code",
   "execution_count": 6,
   "metadata": {},
   "outputs": [],
   "source": [
    "import pandas as pd\n",
    "import matplotlib.pyplot as plt\n",
    "import seaborn as sns\n",
    "from sklearn.preprocessing import LabelEncoder, StandardScaler\n",
    "from sklearn.model_selection import train_test_split"
   ]
  },
  {
   "cell_type": "code",
   "execution_count": 7,
   "metadata": {},
   "outputs": [],
   "source": [
    "df=pd.read_csv(\"game_goalie_stats.csv\")"
   ]
  },
  {
   "cell_type": "code",
   "execution_count": 8,
   "metadata": {},
   "outputs": [
    {
     "name": "stdout",
     "output_type": "stream",
     "text": [
      "game_id                          0\n",
      "player_id                        0\n",
      "team_id                          0\n",
      "timeOnIce                        0\n",
      "assists                          0\n",
      "goals                            0\n",
      "pim                              0\n",
      "shots                            0\n",
      "saves                            0\n",
      "powerPlaySaves                   0\n",
      "shortHandedSaves                 0\n",
      "evenSaves                        0\n",
      "shortHandedShotsAgainst          0\n",
      "evenShotsAgainst                 0\n",
      "powerPlayShotsAgainst            0\n",
      "decision                      4102\n",
      "savePercentage                 139\n",
      "powerPlaySavePercentage       4743\n",
      "evenStrengthSavePercentage     197\n",
      "dtype: int64\n"
     ]
    }
   ],
   "source": [
    "# Check for missing values\n",
    "print(df.isnull().sum())"
   ]
  },
  {
   "cell_type": "code",
   "execution_count": 9,
   "metadata": {},
   "outputs": [],
   "source": [
    "# Drop rows with missing values\n",
    "df = df.dropna()"
   ]
  },
  {
   "cell_type": "code",
   "execution_count": 10,
   "metadata": {},
   "outputs": [
    {
     "name": "stdout",
     "output_type": "stream",
     "text": [
      "game_id                       0\n",
      "player_id                     0\n",
      "team_id                       0\n",
      "timeOnIce                     0\n",
      "assists                       0\n",
      "goals                         0\n",
      "pim                           0\n",
      "shots                         0\n",
      "saves                         0\n",
      "powerPlaySaves                0\n",
      "shortHandedSaves              0\n",
      "evenSaves                     0\n",
      "shortHandedShotsAgainst       0\n",
      "evenShotsAgainst              0\n",
      "powerPlayShotsAgainst         0\n",
      "decision                      0\n",
      "savePercentage                0\n",
      "powerPlaySavePercentage       0\n",
      "evenStrengthSavePercentage    0\n",
      "dtype: int64\n"
     ]
    }
   ],
   "source": [
    "print(df.isnull().sum())"
   ]
  },
  {
   "cell_type": "code",
   "execution_count": 11,
   "metadata": {},
   "outputs": [
    {
     "name": "stdout",
     "output_type": "stream",
     "text": [
      "game_id                         int64\n",
      "player_id                       int64\n",
      "team_id                         int64\n",
      "timeOnIce                       int64\n",
      "assists                         int64\n",
      "goals                           int64\n",
      "pim                             int64\n",
      "shots                           int64\n",
      "saves                           int64\n",
      "powerPlaySaves                  int64\n",
      "shortHandedSaves                int64\n",
      "evenSaves                       int64\n",
      "shortHandedShotsAgainst         int64\n",
      "evenShotsAgainst                int64\n",
      "powerPlayShotsAgainst           int64\n",
      "decision                       object\n",
      "savePercentage                float64\n",
      "powerPlaySavePercentage       float64\n",
      "evenStrengthSavePercentage    float64\n",
      "dtype: object\n"
     ]
    }
   ],
   "source": [
    "print(df.dtypes)"
   ]
  },
  {
   "cell_type": "code",
   "execution_count": 12,
   "metadata": {},
   "outputs": [
    {
     "data": {
      "text/html": [
       "<div>\n",
       "<style scoped>\n",
       "    .dataframe tbody tr th:only-of-type {\n",
       "        vertical-align: middle;\n",
       "    }\n",
       "\n",
       "    .dataframe tbody tr th {\n",
       "        vertical-align: top;\n",
       "    }\n",
       "\n",
       "    .dataframe thead th {\n",
       "        text-align: right;\n",
       "    }\n",
       "</style>\n",
       "<table border=\"1\" class=\"dataframe\">\n",
       "  <thead>\n",
       "    <tr style=\"text-align: right;\">\n",
       "      <th></th>\n",
       "      <th>game_id</th>\n",
       "      <th>player_id</th>\n",
       "      <th>team_id</th>\n",
       "      <th>timeOnIce</th>\n",
       "      <th>assists</th>\n",
       "      <th>goals</th>\n",
       "      <th>pim</th>\n",
       "      <th>shots</th>\n",
       "      <th>saves</th>\n",
       "      <th>powerPlaySaves</th>\n",
       "      <th>shortHandedSaves</th>\n",
       "      <th>evenSaves</th>\n",
       "      <th>shortHandedShotsAgainst</th>\n",
       "      <th>evenShotsAgainst</th>\n",
       "      <th>powerPlayShotsAgainst</th>\n",
       "      <th>savePercentage</th>\n",
       "      <th>powerPlaySavePercentage</th>\n",
       "      <th>evenStrengthSavePercentage</th>\n",
       "    </tr>\n",
       "  </thead>\n",
       "  <tbody>\n",
       "    <tr>\n",
       "      <th>count</th>\n",
       "      <td>4.928400e+04</td>\n",
       "      <td>4.928400e+04</td>\n",
       "      <td>49284.000000</td>\n",
       "      <td>49284.000000</td>\n",
       "      <td>49284.000000</td>\n",
       "      <td>49284.000000</td>\n",
       "      <td>49284.000000</td>\n",
       "      <td>49284.000000</td>\n",
       "      <td>49284.000000</td>\n",
       "      <td>49284.000000</td>\n",
       "      <td>49284.000000</td>\n",
       "      <td>49284.000000</td>\n",
       "      <td>49284.000000</td>\n",
       "      <td>49284.000000</td>\n",
       "      <td>49284.000000</td>\n",
       "      <td>49284.000000</td>\n",
       "      <td>49284.000000</td>\n",
       "      <td>49284.000000</td>\n",
       "    </tr>\n",
       "    <tr>\n",
       "      <th>mean</th>\n",
       "      <td>2.010659e+09</td>\n",
       "      <td>8.468025e+06</td>\n",
       "      <td>16.850499</td>\n",
       "      <td>3539.682514</td>\n",
       "      <td>0.022360</td>\n",
       "      <td>0.000183</td>\n",
       "      <td>0.090800</td>\n",
       "      <td>29.332907</td>\n",
       "      <td>26.761992</td>\n",
       "      <td>4.546729</td>\n",
       "      <td>0.826577</td>\n",
       "      <td>21.388118</td>\n",
       "      <td>0.902605</td>\n",
       "      <td>23.207532</td>\n",
       "      <td>5.222040</td>\n",
       "      <td>90.659817</td>\n",
       "      <td>84.651259</td>\n",
       "      <td>91.614120</td>\n",
       "    </tr>\n",
       "    <tr>\n",
       "      <th>std</th>\n",
       "      <td>6.079323e+06</td>\n",
       "      <td>7.471332e+03</td>\n",
       "      <td>11.076745</td>\n",
       "      <td>431.651544</td>\n",
       "      <td>0.149627</td>\n",
       "      <td>0.013512</td>\n",
       "      <td>0.587195</td>\n",
       "      <td>7.375624</td>\n",
       "      <td>7.375287</td>\n",
       "      <td>3.094339</td>\n",
       "      <td>1.070196</td>\n",
       "      <td>6.682048</td>\n",
       "      <td>1.129039</td>\n",
       "      <td>6.772422</td>\n",
       "      <td>3.275849</td>\n",
       "      <td>6.275837</td>\n",
       "      <td>22.005313</td>\n",
       "      <td>6.762308</td>\n",
       "    </tr>\n",
       "    <tr>\n",
       "      <th>min</th>\n",
       "      <td>2.000020e+09</td>\n",
       "      <td>8.445275e+06</td>\n",
       "      <td>1.000000</td>\n",
       "      <td>196.000000</td>\n",
       "      <td>0.000000</td>\n",
       "      <td>0.000000</td>\n",
       "      <td>0.000000</td>\n",
       "      <td>2.000000</td>\n",
       "      <td>1.000000</td>\n",
       "      <td>0.000000</td>\n",
       "      <td>-1.000000</td>\n",
       "      <td>0.000000</td>\n",
       "      <td>0.000000</td>\n",
       "      <td>1.000000</td>\n",
       "      <td>1.000000</td>\n",
       "      <td>20.000000</td>\n",
       "      <td>0.000000</td>\n",
       "      <td>0.000000</td>\n",
       "    </tr>\n",
       "    <tr>\n",
       "      <th>25%</th>\n",
       "      <td>2.006020e+09</td>\n",
       "      <td>8.462052e+06</td>\n",
       "      <td>8.000000</td>\n",
       "      <td>3550.000000</td>\n",
       "      <td>0.000000</td>\n",
       "      <td>0.000000</td>\n",
       "      <td>0.000000</td>\n",
       "      <td>24.000000</td>\n",
       "      <td>22.000000</td>\n",
       "      <td>2.000000</td>\n",
       "      <td>0.000000</td>\n",
       "      <td>17.000000</td>\n",
       "      <td>0.000000</td>\n",
       "      <td>19.000000</td>\n",
       "      <td>3.000000</td>\n",
       "      <td>87.500000</td>\n",
       "      <td>75.000000</td>\n",
       "      <td>88.235294</td>\n",
       "    </tr>\n",
       "    <tr>\n",
       "      <th>50%</th>\n",
       "      <td>2.011021e+09</td>\n",
       "      <td>8.470147e+06</td>\n",
       "      <td>16.000000</td>\n",
       "      <td>3600.000000</td>\n",
       "      <td>0.000000</td>\n",
       "      <td>0.000000</td>\n",
       "      <td>0.000000</td>\n",
       "      <td>29.000000</td>\n",
       "      <td>27.000000</td>\n",
       "      <td>4.000000</td>\n",
       "      <td>1.000000</td>\n",
       "      <td>21.000000</td>\n",
       "      <td>1.000000</td>\n",
       "      <td>23.000000</td>\n",
       "      <td>5.000000</td>\n",
       "      <td>91.666667</td>\n",
       "      <td>92.857143</td>\n",
       "      <td>92.592593</td>\n",
       "    </tr>\n",
       "    <tr>\n",
       "      <th>75%</th>\n",
       "      <td>2.016021e+09</td>\n",
       "      <td>8.473575e+06</td>\n",
       "      <td>24.000000</td>\n",
       "      <td>3600.000000</td>\n",
       "      <td>0.000000</td>\n",
       "      <td>0.000000</td>\n",
       "      <td>0.000000</td>\n",
       "      <td>34.000000</td>\n",
       "      <td>31.000000</td>\n",
       "      <td>6.000000</td>\n",
       "      <td>1.000000</td>\n",
       "      <td>26.000000</td>\n",
       "      <td>1.000000</td>\n",
       "      <td>28.000000</td>\n",
       "      <td>7.000000</td>\n",
       "      <td>95.000000</td>\n",
       "      <td>100.000000</td>\n",
       "      <td>96.000000</td>\n",
       "    </tr>\n",
       "    <tr>\n",
       "      <th>max</th>\n",
       "      <td>2.019030e+09</td>\n",
       "      <td>8.480925e+06</td>\n",
       "      <td>54.000000</td>\n",
       "      <td>9027.000000</td>\n",
       "      <td>2.000000</td>\n",
       "      <td>1.000000</td>\n",
       "      <td>27.000000</td>\n",
       "      <td>88.000000</td>\n",
       "      <td>85.000000</td>\n",
       "      <td>25.000000</td>\n",
       "      <td>15.000000</td>\n",
       "      <td>76.000000</td>\n",
       "      <td>15.000000</td>\n",
       "      <td>79.000000</td>\n",
       "      <td>28.000000</td>\n",
       "      <td>100.000000</td>\n",
       "      <td>100.000000</td>\n",
       "      <td>100.000000</td>\n",
       "    </tr>\n",
       "  </tbody>\n",
       "</table>\n",
       "</div>"
      ],
      "text/plain": [
       "            game_id     player_id       team_id     timeOnIce       assists  \\\n",
       "count  4.928400e+04  4.928400e+04  49284.000000  49284.000000  49284.000000   \n",
       "mean   2.010659e+09  8.468025e+06     16.850499   3539.682514      0.022360   \n",
       "std    6.079323e+06  7.471332e+03     11.076745    431.651544      0.149627   \n",
       "min    2.000020e+09  8.445275e+06      1.000000    196.000000      0.000000   \n",
       "25%    2.006020e+09  8.462052e+06      8.000000   3550.000000      0.000000   \n",
       "50%    2.011021e+09  8.470147e+06     16.000000   3600.000000      0.000000   \n",
       "75%    2.016021e+09  8.473575e+06     24.000000   3600.000000      0.000000   \n",
       "max    2.019030e+09  8.480925e+06     54.000000   9027.000000      2.000000   \n",
       "\n",
       "              goals           pim         shots         saves  powerPlaySaves  \\\n",
       "count  49284.000000  49284.000000  49284.000000  49284.000000    49284.000000   \n",
       "mean       0.000183      0.090800     29.332907     26.761992        4.546729   \n",
       "std        0.013512      0.587195      7.375624      7.375287        3.094339   \n",
       "min        0.000000      0.000000      2.000000      1.000000        0.000000   \n",
       "25%        0.000000      0.000000     24.000000     22.000000        2.000000   \n",
       "50%        0.000000      0.000000     29.000000     27.000000        4.000000   \n",
       "75%        0.000000      0.000000     34.000000     31.000000        6.000000   \n",
       "max        1.000000     27.000000     88.000000     85.000000       25.000000   \n",
       "\n",
       "       shortHandedSaves     evenSaves  shortHandedShotsAgainst  \\\n",
       "count      49284.000000  49284.000000             49284.000000   \n",
       "mean           0.826577     21.388118                 0.902605   \n",
       "std            1.070196      6.682048                 1.129039   \n",
       "min           -1.000000      0.000000                 0.000000   \n",
       "25%            0.000000     17.000000                 0.000000   \n",
       "50%            1.000000     21.000000                 1.000000   \n",
       "75%            1.000000     26.000000                 1.000000   \n",
       "max           15.000000     76.000000                15.000000   \n",
       "\n",
       "       evenShotsAgainst  powerPlayShotsAgainst  savePercentage  \\\n",
       "count      49284.000000           49284.000000    49284.000000   \n",
       "mean          23.207532               5.222040       90.659817   \n",
       "std            6.772422               3.275849        6.275837   \n",
       "min            1.000000               1.000000       20.000000   \n",
       "25%           19.000000               3.000000       87.500000   \n",
       "50%           23.000000               5.000000       91.666667   \n",
       "75%           28.000000               7.000000       95.000000   \n",
       "max           79.000000              28.000000      100.000000   \n",
       "\n",
       "       powerPlaySavePercentage  evenStrengthSavePercentage  \n",
       "count             49284.000000                49284.000000  \n",
       "mean                 84.651259                   91.614120  \n",
       "std                  22.005313                    6.762308  \n",
       "min                   0.000000                    0.000000  \n",
       "25%                  75.000000                   88.235294  \n",
       "50%                  92.857143                   92.592593  \n",
       "75%                 100.000000                   96.000000  \n",
       "max                 100.000000                  100.000000  "
      ]
     },
     "execution_count": 12,
     "metadata": {},
     "output_type": "execute_result"
    }
   ],
   "source": [
    "df.describe()"
   ]
  },
  {
   "cell_type": "code",
   "execution_count": 13,
   "metadata": {},
   "outputs": [
    {
     "data": {
      "text/plain": [
       "(49284, 19)"
      ]
     },
     "execution_count": 13,
     "metadata": {},
     "output_type": "execute_result"
    }
   ],
   "source": [
    "df.shape"
   ]
  },
  {
   "cell_type": "code",
   "execution_count": 14,
   "metadata": {},
   "outputs": [],
   "source": [
    "#Handle categorical variables\n",
    "le = LabelEncoder()\n",
    "df[\"decision\"] = le.fit_transform(df[\"decision\"])"
   ]
  },
  {
   "cell_type": "code",
   "execution_count": 15,
   "metadata": {},
   "outputs": [],
   "source": [
    "#Split the data into features and target\n",
    "X = df[[\"timeOnIce\", \"assists\", \"goals\", \"pim\", \"shots\", \"saves\", \"powerPlaySaves\", \"shortHandedSaves\", \"evenSaves\", \"shortHandedShotsAgainst\", \"evenShotsAgainst\", \"powerPlayShotsAgainst\", \"savePercentage\", \"powerPlaySavePercentage\", \"evenStrengthSavePercentage\"]]\n",
    "y = df[\"decision\"]"
   ]
  },
  {
   "cell_type": "code",
   "execution_count": 16,
   "metadata": {},
   "outputs": [],
   "source": [
    "#Scale the features (if necessary)\n",
    "scaler = StandardScaler()\n",
    "X_scaled = scaler.fit_transform(X)"
   ]
  },
  {
   "cell_type": "code",
   "execution_count": 17,
   "metadata": {},
   "outputs": [],
   "source": [
    "#Split the data into training and testing sets\n",
    "X_train, X_test, y_train, y_test = train_test_split(X_scaled, y, test_size=0.2, random_state=42)"
   ]
  },
  {
   "cell_type": "markdown",
   "metadata": {},
   "source": [
    "## fill training and evaluation"
   ]
  },
  {
   "cell_type": "code",
   "execution_count": null,
   "metadata": {},
   "outputs": [],
   "source": []
  }
 ],
 "metadata": {
  "kernelspec": {
   "display_name": "Python 3",
   "language": "python",
   "name": "python3"
  },
  "language_info": {
   "codemirror_mode": {
    "name": "ipython",
    "version": 3
   },
   "file_extension": ".py",
   "mimetype": "text/x-python",
   "name": "python",
   "nbconvert_exporter": "python",
   "pygments_lexer": "ipython3",
   "version": "3.12.3"
  }
 },
 "nbformat": 4,
 "nbformat_minor": 2
}
